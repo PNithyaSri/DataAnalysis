{
 "cells": [
  {
   "cell_type": "code",
   "execution_count": 1,
   "id": "d67b6c7e",
   "metadata": {},
   "outputs": [],
   "source": [
    "import pandas as pd"
   ]
  },
  {
   "cell_type": "code",
   "execution_count": 2,
   "id": "c84b04a0",
   "metadata": {},
   "outputs": [],
   "source": [
    "grains = pd.read_csv(r\"C:\\Users\\Nithya\\Downloads\\all_grains_data.csv\")"
   ]
  },
  {
   "cell_type": "code",
   "execution_count": 3,
   "id": "134a074a",
   "metadata": {},
   "outputs": [
    {
     "data": {
      "text/html": [
       "<div>\n",
       "<style scoped>\n",
       "    .dataframe tbody tr th:only-of-type {\n",
       "        vertical-align: middle;\n",
       "    }\n",
       "\n",
       "    .dataframe tbody tr th {\n",
       "        vertical-align: top;\n",
       "    }\n",
       "\n",
       "    .dataframe thead th {\n",
       "        text-align: right;\n",
       "    }\n",
       "</style>\n",
       "<table border=\"1\" class=\"dataframe\">\n",
       "  <thead>\n",
       "    <tr style=\"text-align: right;\">\n",
       "      <th></th>\n",
       "      <th>ticker</th>\n",
       "      <th>commodity</th>\n",
       "      <th>date</th>\n",
       "      <th>open</th>\n",
       "      <th>high</th>\n",
       "      <th>low</th>\n",
       "      <th>close</th>\n",
       "      <th>volume</th>\n",
       "    </tr>\n",
       "  </thead>\n",
       "  <tbody>\n",
       "    <tr>\n",
       "      <th>0</th>\n",
       "      <td>ZC=F</td>\n",
       "      <td>Corn</td>\n",
       "      <td>2000-07-17</td>\n",
       "      <td>182.25</td>\n",
       "      <td>182.25</td>\n",
       "      <td>178.25</td>\n",
       "      <td>179.25</td>\n",
       "      <td>19385</td>\n",
       "    </tr>\n",
       "    <tr>\n",
       "      <th>1</th>\n",
       "      <td>ZC=F</td>\n",
       "      <td>Corn</td>\n",
       "      <td>2000-07-18</td>\n",
       "      <td>179.00</td>\n",
       "      <td>183.25</td>\n",
       "      <td>179.00</td>\n",
       "      <td>180.75</td>\n",
       "      <td>25205</td>\n",
       "    </tr>\n",
       "    <tr>\n",
       "      <th>2</th>\n",
       "      <td>ZC=F</td>\n",
       "      <td>Corn</td>\n",
       "      <td>2000-07-19</td>\n",
       "      <td>180.00</td>\n",
       "      <td>182.75</td>\n",
       "      <td>178.75</td>\n",
       "      <td>182.00</td>\n",
       "      <td>17126</td>\n",
       "    </tr>\n",
       "    <tr>\n",
       "      <th>3</th>\n",
       "      <td>ZC=F</td>\n",
       "      <td>Corn</td>\n",
       "      <td>2000-07-20</td>\n",
       "      <td>181.50</td>\n",
       "      <td>187.00</td>\n",
       "      <td>181.00</td>\n",
       "      <td>186.00</td>\n",
       "      <td>18742</td>\n",
       "    </tr>\n",
       "    <tr>\n",
       "      <th>4</th>\n",
       "      <td>ZC=F</td>\n",
       "      <td>Corn</td>\n",
       "      <td>2000-07-21</td>\n",
       "      <td>185.50</td>\n",
       "      <td>188.00</td>\n",
       "      <td>185.00</td>\n",
       "      <td>187.75</td>\n",
       "      <td>16814</td>\n",
       "    </tr>\n",
       "    <tr>\n",
       "      <th>...</th>\n",
       "      <td>...</td>\n",
       "      <td>...</td>\n",
       "      <td>...</td>\n",
       "      <td>...</td>\n",
       "      <td>...</td>\n",
       "      <td>...</td>\n",
       "      <td>...</td>\n",
       "      <td>...</td>\n",
       "    </tr>\n",
       "    <tr>\n",
       "      <th>34878</th>\n",
       "      <td>ZS=F</td>\n",
       "      <td>Soybean</td>\n",
       "      <td>2023-09-11</td>\n",
       "      <td>1352.50</td>\n",
       "      <td>1352.50</td>\n",
       "      <td>1352.00</td>\n",
       "      <td>1352.50</td>\n",
       "      <td>36</td>\n",
       "    </tr>\n",
       "    <tr>\n",
       "      <th>34879</th>\n",
       "      <td>ZS=F</td>\n",
       "      <td>Soybean</td>\n",
       "      <td>2023-09-12</td>\n",
       "      <td>1348.75</td>\n",
       "      <td>1348.75</td>\n",
       "      <td>1331.75</td>\n",
       "      <td>1331.75</td>\n",
       "      <td>274</td>\n",
       "    </tr>\n",
       "    <tr>\n",
       "      <th>34880</th>\n",
       "      <td>ZS=F</td>\n",
       "      <td>Soybean</td>\n",
       "      <td>2023-09-13</td>\n",
       "      <td>1325.50</td>\n",
       "      <td>1336.00</td>\n",
       "      <td>1325.50</td>\n",
       "      <td>1336.00</td>\n",
       "      <td>201</td>\n",
       "    </tr>\n",
       "    <tr>\n",
       "      <th>34881</th>\n",
       "      <td>ZS=F</td>\n",
       "      <td>Soybean</td>\n",
       "      <td>2023-09-14</td>\n",
       "      <td>1343.75</td>\n",
       "      <td>1343.75</td>\n",
       "      <td>1343.75</td>\n",
       "      <td>1343.75</td>\n",
       "      <td>138778</td>\n",
       "    </tr>\n",
       "    <tr>\n",
       "      <th>34882</th>\n",
       "      <td>ZS=F</td>\n",
       "      <td>Soybean</td>\n",
       "      <td>2023-09-15</td>\n",
       "      <td>1360.50</td>\n",
       "      <td>1367.75</td>\n",
       "      <td>1338.25</td>\n",
       "      <td>1340.25</td>\n",
       "      <td>138778</td>\n",
       "    </tr>\n",
       "  </tbody>\n",
       "</table>\n",
       "<p>34883 rows × 8 columns</p>\n",
       "</div>"
      ],
      "text/plain": [
       "      ticker commodity        date     open     high      low    close  volume\n",
       "0       ZC=F      Corn  2000-07-17   182.25   182.25   178.25   179.25   19385\n",
       "1       ZC=F      Corn  2000-07-18   179.00   183.25   179.00   180.75   25205\n",
       "2       ZC=F      Corn  2000-07-19   180.00   182.75   178.75   182.00   17126\n",
       "3       ZC=F      Corn  2000-07-20   181.50   187.00   181.00   186.00   18742\n",
       "4       ZC=F      Corn  2000-07-21   185.50   188.00   185.00   187.75   16814\n",
       "...      ...       ...         ...      ...      ...      ...      ...     ...\n",
       "34878   ZS=F   Soybean  2023-09-11  1352.50  1352.50  1352.00  1352.50      36\n",
       "34879   ZS=F   Soybean  2023-09-12  1348.75  1348.75  1331.75  1331.75     274\n",
       "34880   ZS=F   Soybean  2023-09-13  1325.50  1336.00  1325.50  1336.00     201\n",
       "34881   ZS=F   Soybean  2023-09-14  1343.75  1343.75  1343.75  1343.75  138778\n",
       "34882   ZS=F   Soybean  2023-09-15  1360.50  1367.75  1338.25  1340.25  138778\n",
       "\n",
       "[34883 rows x 8 columns]"
      ]
     },
     "execution_count": 3,
     "metadata": {},
     "output_type": "execute_result"
    }
   ],
   "source": [
    "grains"
   ]
  },
  {
   "cell_type": "code",
   "execution_count": 4,
   "id": "28df75dc",
   "metadata": {},
   "outputs": [],
   "source": [
    "# 1.Which commodity was having the highest opening price for the day."
   ]
  },
  {
   "cell_type": "code",
   "execution_count": 73,
   "id": "2198ef8f",
   "metadata": {},
   "outputs": [
    {
     "data": {
      "text/plain": [
       "19437    Rough Rice\n",
       "Name: commodity, dtype: object"
      ]
     },
     "execution_count": 73,
     "metadata": {},
     "output_type": "execute_result"
    }
   ],
   "source": [
    "grains.loc[grains[\"open\"]==max(grains[\"open\"]),\"commodity\"]"
   ]
  },
  {
   "cell_type": "code",
   "execution_count": 13,
   "id": "8ef00691",
   "metadata": {},
   "outputs": [],
   "source": [
    "# 2.Which commodity price reached  maximum during the trading session."
   ]
  },
  {
   "cell_type": "code",
   "execution_count": 74,
   "id": "ef1b10bd",
   "metadata": {},
   "outputs": [
    {
     "data": {
      "text/plain": [
       "19437    Rough Rice\n",
       "Name: commodity, dtype: object"
      ]
     },
     "execution_count": 74,
     "metadata": {},
     "output_type": "execute_result"
    }
   ],
   "source": [
    "grains.loc[grains[\"high\"]==max(grains[\"high\"]),\"commodity\"]"
   ]
  },
  {
   "cell_type": "code",
   "execution_count": 39,
   "id": "d5a94ea7",
   "metadata": {},
   "outputs": [],
   "source": [
    "# 3.What is the average Market's opening price for the Oat in 2010"
   ]
  },
  {
   "cell_type": "code",
   "execution_count": 75,
   "id": "dd411274",
   "metadata": {},
   "outputs": [
    {
     "data": {
      "text/plain": [
       "275.11607142857144"
      ]
     },
     "execution_count": 75,
     "metadata": {},
     "output_type": "execute_result"
    }
   ],
   "source": [
    "grains[\"date\"]=grains[\"date\"].astype('datetime64[ns]')\n",
    "grains.loc[(grains[\"date\"].dt.year==2010) & (grains[\"commodity\"]==\"Oat\"),\"open\"].mean()"
   ]
  },
  {
   "cell_type": "code",
   "execution_count": 57,
   "id": "b9f7c34b",
   "metadata": {},
   "outputs": [],
   "source": [
    "# 4.What is the maximum and minimum Number of contracts traded during the 2009 "
   ]
  },
  {
   "cell_type": "code",
   "execution_count": 76,
   "id": "ea8742cb",
   "metadata": {},
   "outputs": [
    {
     "data": {
      "text/plain": [
       "252221"
      ]
     },
     "execution_count": 76,
     "metadata": {},
     "output_type": "execute_result"
    }
   ],
   "source": [
    "max(grains.loc[grains[\"date\"].dt.year==2009,\"volume\"])"
   ]
  },
  {
   "cell_type": "code",
   "execution_count": 77,
   "id": "1bc0e07f",
   "metadata": {},
   "outputs": [
    {
     "data": {
      "text/plain": [
       "0"
      ]
     },
     "execution_count": 77,
     "metadata": {},
     "output_type": "execute_result"
    }
   ],
   "source": [
    "min(grains.loc[grains[\"date\"].dt.year==2009,\"volume\"])"
   ]
  },
  {
   "cell_type": "code",
   "execution_count": 16,
   "id": "41e67718",
   "metadata": {},
   "outputs": [],
   "source": [
    "# 5.Which year have  maximum and minimum Number of contracts traded"
   ]
  },
  {
   "cell_type": "code",
   "execution_count": 20,
   "id": "4a4b9c6c",
   "metadata": {},
   "outputs": [
    {
     "data": {
      "text/plain": [
       "4216   2017-06-07\n",
       "Name: date, dtype: datetime64[ns]"
      ]
     },
     "execution_count": 20,
     "metadata": {},
     "output_type": "execute_result"
    }
   ],
   "source": [
    "grains.loc[grains[\"volume\"]==max(grains[\"volume\"]),\"date\"]"
   ]
  },
  {
   "cell_type": "code",
   "execution_count": 32,
   "id": "eafcd610",
   "metadata": {},
   "outputs": [
    {
     "data": {
      "text/html": [
       "<div>\n",
       "<style scoped>\n",
       "    .dataframe tbody tr th:only-of-type {\n",
       "        vertical-align: middle;\n",
       "    }\n",
       "\n",
       "    .dataframe tbody tr th {\n",
       "        vertical-align: top;\n",
       "    }\n",
       "\n",
       "    .dataframe thead th {\n",
       "        text-align: right;\n",
       "    }\n",
       "</style>\n",
       "<table border=\"1\" class=\"dataframe\">\n",
       "  <thead>\n",
       "    <tr style=\"text-align: right;\">\n",
       "      <th></th>\n",
       "      <th>ticker</th>\n",
       "      <th>commodity</th>\n",
       "      <th>date</th>\n",
       "      <th>open</th>\n",
       "      <th>high</th>\n",
       "      <th>low</th>\n",
       "      <th>close</th>\n",
       "      <th>volume</th>\n",
       "    </tr>\n",
       "  </thead>\n",
       "  <tbody>\n",
       "    <tr>\n",
       "      <th>821</th>\n",
       "      <td>ZC=F</td>\n",
       "      <td>Corn</td>\n",
       "      <td>2003-12-11</td>\n",
       "      <td>250.50</td>\n",
       "      <td>253.00</td>\n",
       "      <td>247.00</td>\n",
       "      <td>252.00</td>\n",
       "      <td>0</td>\n",
       "    </tr>\n",
       "    <tr>\n",
       "      <th>1328</th>\n",
       "      <td>ZC=F</td>\n",
       "      <td>Corn</td>\n",
       "      <td>2005-12-13</td>\n",
       "      <td>195.50</td>\n",
       "      <td>195.50</td>\n",
       "      <td>195.50</td>\n",
       "      <td>195.50</td>\n",
       "      <td>0</td>\n",
       "    </tr>\n",
       "    <tr>\n",
       "      <th>4486</th>\n",
       "      <td>ZC=F</td>\n",
       "      <td>Corn</td>\n",
       "      <td>2018-07-03</td>\n",
       "      <td>340.25</td>\n",
       "      <td>345.25</td>\n",
       "      <td>339.25</td>\n",
       "      <td>342.75</td>\n",
       "      <td>0</td>\n",
       "    </tr>\n",
       "    <tr>\n",
       "      <th>4528</th>\n",
       "      <td>ZC=F</td>\n",
       "      <td>Corn</td>\n",
       "      <td>2018-08-31</td>\n",
       "      <td>341.00</td>\n",
       "      <td>352.00</td>\n",
       "      <td>340.75</td>\n",
       "      <td>351.00</td>\n",
       "      <td>0</td>\n",
       "    </tr>\n",
       "    <tr>\n",
       "      <th>5682</th>\n",
       "      <td>ZC=F</td>\n",
       "      <td>Corn</td>\n",
       "      <td>2023-04-06</td>\n",
       "      <td>652.25</td>\n",
       "      <td>652.50</td>\n",
       "      <td>641.75</td>\n",
       "      <td>643.50</td>\n",
       "      <td>0</td>\n",
       "    </tr>\n",
       "    <tr>\n",
       "      <th>...</th>\n",
       "      <td>...</td>\n",
       "      <td>...</td>\n",
       "      <td>...</td>\n",
       "      <td>...</td>\n",
       "      <td>...</td>\n",
       "      <td>...</td>\n",
       "      <td>...</td>\n",
       "      <td>...</td>\n",
       "    </tr>\n",
       "    <tr>\n",
       "      <th>29219</th>\n",
       "      <td>ZS=F</td>\n",
       "      <td>Soybean</td>\n",
       "      <td>2001-03-13</td>\n",
       "      <td>455.00</td>\n",
       "      <td>455.00</td>\n",
       "      <td>455.00</td>\n",
       "      <td>459.00</td>\n",
       "      <td>0</td>\n",
       "    </tr>\n",
       "    <tr>\n",
       "      <th>30306</th>\n",
       "      <td>ZS=F</td>\n",
       "      <td>Soybean</td>\n",
       "      <td>2005-07-12</td>\n",
       "      <td>698.50</td>\n",
       "      <td>698.50</td>\n",
       "      <td>698.50</td>\n",
       "      <td>698.50</td>\n",
       "      <td>0</td>\n",
       "    </tr>\n",
       "    <tr>\n",
       "      <th>33573</th>\n",
       "      <td>ZS=F</td>\n",
       "      <td>Soybean</td>\n",
       "      <td>2018-07-03</td>\n",
       "      <td>849.50</td>\n",
       "      <td>852.75</td>\n",
       "      <td>843.00</td>\n",
       "      <td>844.00</td>\n",
       "      <td>0</td>\n",
       "    </tr>\n",
       "    <tr>\n",
       "      <th>33615</th>\n",
       "      <td>ZS=F</td>\n",
       "      <td>Soybean</td>\n",
       "      <td>2018-08-31</td>\n",
       "      <td>816.00</td>\n",
       "      <td>833.25</td>\n",
       "      <td>816.00</td>\n",
       "      <td>833.00</td>\n",
       "      <td>0</td>\n",
       "    </tr>\n",
       "    <tr>\n",
       "      <th>34771</th>\n",
       "      <td>ZS=F</td>\n",
       "      <td>Soybean</td>\n",
       "      <td>2023-04-06</td>\n",
       "      <td>1510.00</td>\n",
       "      <td>1510.25</td>\n",
       "      <td>1483.25</td>\n",
       "      <td>1492.50</td>\n",
       "      <td>0</td>\n",
       "    </tr>\n",
       "  </tbody>\n",
       "</table>\n",
       "<p>2812 rows × 8 columns</p>\n",
       "</div>"
      ],
      "text/plain": [
       "      ticker commodity       date     open     high      low    close  volume\n",
       "821     ZC=F      Corn 2003-12-11   250.50   253.00   247.00   252.00       0\n",
       "1328    ZC=F      Corn 2005-12-13   195.50   195.50   195.50   195.50       0\n",
       "4486    ZC=F      Corn 2018-07-03   340.25   345.25   339.25   342.75       0\n",
       "4528    ZC=F      Corn 2018-08-31   341.00   352.00   340.75   351.00       0\n",
       "5682    ZC=F      Corn 2023-04-06   652.25   652.50   641.75   643.50       0\n",
       "...      ...       ...        ...      ...      ...      ...      ...     ...\n",
       "29219   ZS=F   Soybean 2001-03-13   455.00   455.00   455.00   459.00       0\n",
       "30306   ZS=F   Soybean 2005-07-12   698.50   698.50   698.50   698.50       0\n",
       "33573   ZS=F   Soybean 2018-07-03   849.50   852.75   843.00   844.00       0\n",
       "33615   ZS=F   Soybean 2018-08-31   816.00   833.25   816.00   833.00       0\n",
       "34771   ZS=F   Soybean 2023-04-06  1510.00  1510.25  1483.25  1492.50       0\n",
       "\n",
       "[2812 rows x 8 columns]"
      ]
     },
     "execution_count": 32,
     "metadata": {},
     "output_type": "execute_result"
    }
   ],
   "source": [
    "grains.loc[grains[\"volume\"]==min(grains[\"volume\"])]"
   ]
  },
  {
   "cell_type": "code",
   "execution_count": 33,
   "id": "360b85ae",
   "metadata": {},
   "outputs": [],
   "source": [
    "# 6.Which commodity have the average lowest opening price around 2001 to 2005"
   ]
  },
  {
   "cell_type": "code",
   "execution_count": 78,
   "id": "762182d1",
   "metadata": {},
   "outputs": [
    {
     "data": {
      "text/plain": [
       "23466    Soybean Oil\n",
       "Name: commodity, dtype: object"
      ]
     },
     "execution_count": 78,
     "metadata": {},
     "output_type": "execute_result"
    }
   ],
   "source": [
    "grains.loc[(grains[\"date\"].dt.year>=2001) & (grains[\"date\"].dt.year<=2005) & (grains[\"open\"]==min(grains[\"open\"])), \"commodity\"]\n"
   ]
  },
  {
   "cell_type": "code",
   "execution_count": 65,
   "id": "05047461",
   "metadata": {},
   "outputs": [],
   "source": [
    "# 7.Which commodity have the best average  Market's closing price"
   ]
  },
  {
   "cell_type": "code",
   "execution_count": 79,
   "id": "85bfe7df",
   "metadata": {},
   "outputs": [
    {
     "data": {
      "text/html": [
       "<div>\n",
       "<style scoped>\n",
       "    .dataframe tbody tr th:only-of-type {\n",
       "        vertical-align: middle;\n",
       "    }\n",
       "\n",
       "    .dataframe tbody tr th {\n",
       "        vertical-align: top;\n",
       "    }\n",
       "\n",
       "    .dataframe thead tr th {\n",
       "        text-align: left;\n",
       "    }\n",
       "\n",
       "    .dataframe thead tr:last-of-type th {\n",
       "        text-align: right;\n",
       "    }\n",
       "</style>\n",
       "<table border=\"1\" class=\"dataframe\">\n",
       "  <thead>\n",
       "    <tr>\n",
       "      <th></th>\n",
       "      <th>mean</th>\n",
       "    </tr>\n",
       "    <tr>\n",
       "      <th></th>\n",
       "      <th>close</th>\n",
       "    </tr>\n",
       "    <tr>\n",
       "      <th>commodity</th>\n",
       "      <th></th>\n",
       "    </tr>\n",
       "  </thead>\n",
       "  <tbody>\n",
       "    <tr>\n",
       "      <th>Corn</th>\n",
       "      <td>409.404772</td>\n",
       "    </tr>\n",
       "    <tr>\n",
       "      <th>KC HRW Wheat</th>\n",
       "      <td>563.693282</td>\n",
       "    </tr>\n",
       "    <tr>\n",
       "      <th>Oat</th>\n",
       "      <td>278.657674</td>\n",
       "    </tr>\n",
       "    <tr>\n",
       "      <th>Rough Rice</th>\n",
       "      <td>1143.607925</td>\n",
       "    </tr>\n",
       "    <tr>\n",
       "      <th>Soybean</th>\n",
       "      <td>998.015728</td>\n",
       "    </tr>\n",
       "    <tr>\n",
       "      <th>Soybean Oil</th>\n",
       "      <td>36.820361</td>\n",
       "    </tr>\n",
       "  </tbody>\n",
       "</table>\n",
       "</div>"
      ],
      "text/plain": [
       "                     mean\n",
       "                    close\n",
       "commodity                \n",
       "Corn           409.404772\n",
       "KC HRW Wheat   563.693282\n",
       "Oat            278.657674\n",
       "Rough Rice    1143.607925\n",
       "Soybean        998.015728\n",
       "Soybean Oil     36.820361"
      ]
     },
     "execution_count": 79,
     "metadata": {},
     "output_type": "execute_result"
    }
   ],
   "source": [
    "result = pd.pivot_table(grains, index=\"commodity\", values=\"close\", aggfunc=[\"mean\"])\n",
    "result"
   ]
  },
  {
   "cell_type": "code",
   "execution_count": 51,
   "id": "e79c391a",
   "metadata": {},
   "outputs": [
    {
     "data": {
      "text/html": [
       "<div>\n",
       "<style scoped>\n",
       "    .dataframe tbody tr th:only-of-type {\n",
       "        vertical-align: middle;\n",
       "    }\n",
       "\n",
       "    .dataframe tbody tr th {\n",
       "        vertical-align: top;\n",
       "    }\n",
       "\n",
       "    .dataframe thead th {\n",
       "        text-align: right;\n",
       "    }\n",
       "</style>\n",
       "<table border=\"1\" class=\"dataframe\">\n",
       "  <thead>\n",
       "    <tr style=\"text-align: right;\">\n",
       "      <th></th>\n",
       "      <th>close</th>\n",
       "    </tr>\n",
       "    <tr>\n",
       "      <th>commodity</th>\n",
       "      <th></th>\n",
       "    </tr>\n",
       "  </thead>\n",
       "  <tbody>\n",
       "    <tr>\n",
       "      <th>Soybean Oil</th>\n",
       "      <td>36.820361</td>\n",
       "    </tr>\n",
       "  </tbody>\n",
       "</table>\n",
       "</div>"
      ],
      "text/plain": [
       "                 close\n",
       "commodity             \n",
       "Soybean Oil  36.820361"
      ]
     },
     "execution_count": 51,
     "metadata": {},
     "output_type": "execute_result"
    }
   ],
   "source": [
    "result.loc[result[\"close\"]==min(result[\"close\"])]"
   ]
  },
  {
   "cell_type": "code",
   "execution_count": 54,
   "id": "c0e176ab",
   "metadata": {},
   "outputs": [],
   "source": [
    "# 8. Which year corn have the highest and lowest Number of contracts traded"
   ]
  },
  {
   "cell_type": "code",
   "execution_count": 81,
   "id": "ff388beb",
   "metadata": {},
   "outputs": [],
   "source": [
    "grains[\"date\"]=grains[\"date\"].astype('datetime64[ns]')\n",
    "grains[\"date\"]=grains[\"date\"].dt.year"
   ]
  },
  {
   "cell_type": "code",
   "execution_count": 82,
   "id": "56d97cca",
   "metadata": {},
   "outputs": [
    {
     "data": {
      "text/plain": [
       "4216    2017\n",
       "Name: date, dtype: int64"
      ]
     },
     "execution_count": 82,
     "metadata": {},
     "output_type": "execute_result"
    }
   ],
   "source": [
    "grains.loc[(grains[\"commodity\"]==\"Corn\") & (grains[\"volume\"]==max(grains[\"volume\"])), \"date\"]"
   ]
  },
  {
   "cell_type": "code",
   "execution_count": 83,
   "id": "998cb6c8",
   "metadata": {},
   "outputs": [
    {
     "data": {
      "text/plain": [
       "821     2003\n",
       "1328    2005\n",
       "4486    2018\n",
       "4528    2018\n",
       "5682    2023\n",
       "Name: date, dtype: int64"
      ]
     },
     "execution_count": 83,
     "metadata": {},
     "output_type": "execute_result"
    }
   ],
   "source": [
    "grains.loc[(grains[\"commodity\"]==\"Corn\") & (grains[\"volume\"]==min(grains[\"volume\"])), \"date\"]"
   ]
  },
  {
   "cell_type": "code",
   "execution_count": null,
   "id": "2e42b495",
   "metadata": {},
   "outputs": [],
   "source": []
  }
 ],
 "metadata": {
  "kernelspec": {
   "display_name": "Python 3 (ipykernel)",
   "language": "python",
   "name": "python3"
  },
  "language_info": {
   "codemirror_mode": {
    "name": "ipython",
    "version": 3
   },
   "file_extension": ".py",
   "mimetype": "text/x-python",
   "name": "python",
   "nbconvert_exporter": "python",
   "pygments_lexer": "ipython3",
   "version": "3.10.9"
  }
 },
 "nbformat": 4,
 "nbformat_minor": 5
}
