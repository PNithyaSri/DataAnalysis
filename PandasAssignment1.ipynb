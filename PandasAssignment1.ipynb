{
 "cells": [
  {
   "cell_type": "code",
   "execution_count": 1,
   "id": "3aad0d34",
   "metadata": {},
   "outputs": [],
   "source": [
    "import pandas as pd"
   ]
  },
  {
   "cell_type": "code",
   "execution_count": 2,
   "id": "c2e5380c",
   "metadata": {},
   "outputs": [
    {
     "data": {
      "text/html": [
       "<div>\n",
       "<style scoped>\n",
       "    .dataframe tbody tr th:only-of-type {\n",
       "        vertical-align: middle;\n",
       "    }\n",
       "\n",
       "    .dataframe tbody tr th {\n",
       "        vertical-align: top;\n",
       "    }\n",
       "\n",
       "    .dataframe thead th {\n",
       "        text-align: right;\n",
       "    }\n",
       "</style>\n",
       "<table border=\"1\" class=\"dataframe\">\n",
       "  <thead>\n",
       "    <tr style=\"text-align: right;\">\n",
       "      <th></th>\n",
       "      <th>phone_name</th>\n",
       "      <th>brand</th>\n",
       "      <th>os</th>\n",
       "      <th>inches</th>\n",
       "      <th>resolution</th>\n",
       "      <th>battery</th>\n",
       "      <th>battery_type</th>\n",
       "      <th>ram(GB)</th>\n",
       "      <th>announcement_date</th>\n",
       "      <th>weight(g)</th>\n",
       "      <th>...</th>\n",
       "      <th>video_1080p</th>\n",
       "      <th>video_4K</th>\n",
       "      <th>video_8K</th>\n",
       "      <th>video_30fps</th>\n",
       "      <th>video_60fps</th>\n",
       "      <th>video_120fps</th>\n",
       "      <th>video_240fps</th>\n",
       "      <th>video_480fps</th>\n",
       "      <th>video_960fps</th>\n",
       "      <th>price(USD)</th>\n",
       "    </tr>\n",
       "  </thead>\n",
       "  <tbody>\n",
       "    <tr>\n",
       "      <th>0</th>\n",
       "      <td>Y6II Compact</td>\n",
       "      <td>Huawei</td>\n",
       "      <td>Android 5.1</td>\n",
       "      <td>5.00</td>\n",
       "      <td>720x1280</td>\n",
       "      <td>2200</td>\n",
       "      <td>Li-Po</td>\n",
       "      <td>2</td>\n",
       "      <td>2016-09-01</td>\n",
       "      <td>140.0</td>\n",
       "      <td>...</td>\n",
       "      <td>False</td>\n",
       "      <td>False</td>\n",
       "      <td>False</td>\n",
       "      <td>True</td>\n",
       "      <td>False</td>\n",
       "      <td>False</td>\n",
       "      <td>False</td>\n",
       "      <td>False</td>\n",
       "      <td>False</td>\n",
       "      <td>120.000</td>\n",
       "    </tr>\n",
       "    <tr>\n",
       "      <th>1</th>\n",
       "      <td>K20 plus</td>\n",
       "      <td>LG</td>\n",
       "      <td>Android 7.0</td>\n",
       "      <td>5.30</td>\n",
       "      <td>720x1280</td>\n",
       "      <td>2700</td>\n",
       "      <td>Li-Ion</td>\n",
       "      <td>2</td>\n",
       "      <td>2016-12-01</td>\n",
       "      <td>140.0</td>\n",
       "      <td>...</td>\n",
       "      <td>True</td>\n",
       "      <td>False</td>\n",
       "      <td>False</td>\n",
       "      <td>True</td>\n",
       "      <td>False</td>\n",
       "      <td>False</td>\n",
       "      <td>False</td>\n",
       "      <td>False</td>\n",
       "      <td>False</td>\n",
       "      <td>100.000</td>\n",
       "    </tr>\n",
       "    <tr>\n",
       "      <th>2</th>\n",
       "      <td>P8 Lite (2017)</td>\n",
       "      <td>Huawei</td>\n",
       "      <td>Android 7.0</td>\n",
       "      <td>5.20</td>\n",
       "      <td>1080x1920</td>\n",
       "      <td>3000</td>\n",
       "      <td>Li-Ion</td>\n",
       "      <td>4</td>\n",
       "      <td>2017-01-01</td>\n",
       "      <td>147.0</td>\n",
       "      <td>...</td>\n",
       "      <td>True</td>\n",
       "      <td>False</td>\n",
       "      <td>False</td>\n",
       "      <td>True</td>\n",
       "      <td>False</td>\n",
       "      <td>False</td>\n",
       "      <td>False</td>\n",
       "      <td>False</td>\n",
       "      <td>False</td>\n",
       "      <td>420.000</td>\n",
       "    </tr>\n",
       "    <tr>\n",
       "      <th>3</th>\n",
       "      <td>Redmi Note 4</td>\n",
       "      <td>Xiaomi</td>\n",
       "      <td>Android 6.0</td>\n",
       "      <td>5.50</td>\n",
       "      <td>1080x1920</td>\n",
       "      <td>4100</td>\n",
       "      <td>Li-Po</td>\n",
       "      <td>4</td>\n",
       "      <td>2017-01-01</td>\n",
       "      <td>165.0</td>\n",
       "      <td>...</td>\n",
       "      <td>True</td>\n",
       "      <td>False</td>\n",
       "      <td>False</td>\n",
       "      <td>True</td>\n",
       "      <td>False</td>\n",
       "      <td>True</td>\n",
       "      <td>False</td>\n",
       "      <td>False</td>\n",
       "      <td>False</td>\n",
       "      <td>150.000</td>\n",
       "    </tr>\n",
       "    <tr>\n",
       "      <th>4</th>\n",
       "      <td>P10</td>\n",
       "      <td>Huawei</td>\n",
       "      <td>Android 7.0</td>\n",
       "      <td>5.10</td>\n",
       "      <td>1080x1920</td>\n",
       "      <td>3200</td>\n",
       "      <td>Li-Ion</td>\n",
       "      <td>4</td>\n",
       "      <td>2017-02-01</td>\n",
       "      <td>145.0</td>\n",
       "      <td>...</td>\n",
       "      <td>True</td>\n",
       "      <td>True</td>\n",
       "      <td>False</td>\n",
       "      <td>True</td>\n",
       "      <td>True</td>\n",
       "      <td>False</td>\n",
       "      <td>False</td>\n",
       "      <td>False</td>\n",
       "      <td>False</td>\n",
       "      <td>420.000</td>\n",
       "    </tr>\n",
       "    <tr>\n",
       "      <th>...</th>\n",
       "      <td>...</td>\n",
       "      <td>...</td>\n",
       "      <td>...</td>\n",
       "      <td>...</td>\n",
       "      <td>...</td>\n",
       "      <td>...</td>\n",
       "      <td>...</td>\n",
       "      <td>...</td>\n",
       "      <td>...</td>\n",
       "      <td>...</td>\n",
       "      <td>...</td>\n",
       "      <td>...</td>\n",
       "      <td>...</td>\n",
       "      <td>...</td>\n",
       "      <td>...</td>\n",
       "      <td>...</td>\n",
       "      <td>...</td>\n",
       "      <td>...</td>\n",
       "      <td>...</td>\n",
       "      <td>...</td>\n",
       "      <td>...</td>\n",
       "    </tr>\n",
       "    <tr>\n",
       "      <th>1507</th>\n",
       "      <td>vivo Y77t</td>\n",
       "      <td>Vivo</td>\n",
       "      <td>Android 13</td>\n",
       "      <td>6.64</td>\n",
       "      <td>1080x2388</td>\n",
       "      <td>5000</td>\n",
       "      <td>Li-Po</td>\n",
       "      <td>8</td>\n",
       "      <td>2023-08-18</td>\n",
       "      <td>190.0</td>\n",
       "      <td>...</td>\n",
       "      <td>True</td>\n",
       "      <td>False</td>\n",
       "      <td>False</td>\n",
       "      <td>True</td>\n",
       "      <td>False</td>\n",
       "      <td>False</td>\n",
       "      <td>False</td>\n",
       "      <td>False</td>\n",
       "      <td>False</td>\n",
       "      <td>170.000</td>\n",
       "    </tr>\n",
       "    <tr>\n",
       "      <th>1508</th>\n",
       "      <td>11x</td>\n",
       "      <td>Realme</td>\n",
       "      <td>Android 13</td>\n",
       "      <td>6.72</td>\n",
       "      <td>1080x2400</td>\n",
       "      <td>5000</td>\n",
       "      <td>Li-Po</td>\n",
       "      <td>8</td>\n",
       "      <td>2023-08-23</td>\n",
       "      <td>190.0</td>\n",
       "      <td>...</td>\n",
       "      <td>True</td>\n",
       "      <td>False</td>\n",
       "      <td>False</td>\n",
       "      <td>True</td>\n",
       "      <td>False</td>\n",
       "      <td>False</td>\n",
       "      <td>False</td>\n",
       "      <td>False</td>\n",
       "      <td>False</td>\n",
       "      <td>182.880</td>\n",
       "    </tr>\n",
       "    <tr>\n",
       "      <th>1509</th>\n",
       "      <td>GT5</td>\n",
       "      <td>Realme</td>\n",
       "      <td>Android 13</td>\n",
       "      <td>6.74</td>\n",
       "      <td>1240x2772</td>\n",
       "      <td>5240</td>\n",
       "      <td>Li-Po</td>\n",
       "      <td>16</td>\n",
       "      <td>2023-08-28</td>\n",
       "      <td>205.0</td>\n",
       "      <td>...</td>\n",
       "      <td>True</td>\n",
       "      <td>True</td>\n",
       "      <td>False</td>\n",
       "      <td>False</td>\n",
       "      <td>True</td>\n",
       "      <td>False</td>\n",
       "      <td>False</td>\n",
       "      <td>False</td>\n",
       "      <td>False</td>\n",
       "      <td>380.000</td>\n",
       "    </tr>\n",
       "    <tr>\n",
       "      <th>1510</th>\n",
       "      <td>GT5 240W</td>\n",
       "      <td>Realme</td>\n",
       "      <td>Android 13</td>\n",
       "      <td>6.74</td>\n",
       "      <td>1240x2772</td>\n",
       "      <td>4600</td>\n",
       "      <td>Li-Po</td>\n",
       "      <td>24</td>\n",
       "      <td>2023-08-28</td>\n",
       "      <td>205.0</td>\n",
       "      <td>...</td>\n",
       "      <td>True</td>\n",
       "      <td>True</td>\n",
       "      <td>False</td>\n",
       "      <td>False</td>\n",
       "      <td>True</td>\n",
       "      <td>False</td>\n",
       "      <td>False</td>\n",
       "      <td>False</td>\n",
       "      <td>False</td>\n",
       "      <td>470.000</td>\n",
       "    </tr>\n",
       "    <tr>\n",
       "      <th>1511</th>\n",
       "      <td>vivo iQOO Z7 Pro</td>\n",
       "      <td>Vivo</td>\n",
       "      <td>Android 13</td>\n",
       "      <td>6.78</td>\n",
       "      <td>1080x2400</td>\n",
       "      <td>4600</td>\n",
       "      <td>Li-Po</td>\n",
       "      <td>8</td>\n",
       "      <td>2023-08-31</td>\n",
       "      <td>175.0</td>\n",
       "      <td>...</td>\n",
       "      <td>True</td>\n",
       "      <td>True</td>\n",
       "      <td>False</td>\n",
       "      <td>True</td>\n",
       "      <td>False</td>\n",
       "      <td>False</td>\n",
       "      <td>False</td>\n",
       "      <td>False</td>\n",
       "      <td>False</td>\n",
       "      <td>287.988</td>\n",
       "    </tr>\n",
       "  </tbody>\n",
       "</table>\n",
       "<p>1512 rows × 22 columns</p>\n",
       "</div>"
      ],
      "text/plain": [
       "            phone_name   brand           os  inches resolution  battery  \\\n",
       "0         Y6II Compact  Huawei  Android 5.1    5.00   720x1280     2200   \n",
       "1             K20 plus      LG  Android 7.0    5.30   720x1280     2700   \n",
       "2       P8 Lite (2017)  Huawei  Android 7.0    5.20  1080x1920     3000   \n",
       "3         Redmi Note 4  Xiaomi  Android 6.0    5.50  1080x1920     4100   \n",
       "4                  P10  Huawei  Android 7.0    5.10  1080x1920     3200   \n",
       "...                ...     ...          ...     ...        ...      ...   \n",
       "1507         vivo Y77t    Vivo   Android 13    6.64  1080x2388     5000   \n",
       "1508               11x  Realme   Android 13    6.72  1080x2400     5000   \n",
       "1509               GT5  Realme   Android 13    6.74  1240x2772     5240   \n",
       "1510          GT5 240W  Realme   Android 13    6.74  1240x2772     4600   \n",
       "1511  vivo iQOO Z7 Pro    Vivo   Android 13    6.78  1080x2400     4600   \n",
       "\n",
       "     battery_type  ram(GB) announcement_date  weight(g)  ...  video_1080p  \\\n",
       "0           Li-Po        2        2016-09-01      140.0  ...        False   \n",
       "1          Li-Ion        2        2016-12-01      140.0  ...         True   \n",
       "2          Li-Ion        4        2017-01-01      147.0  ...         True   \n",
       "3           Li-Po        4        2017-01-01      165.0  ...         True   \n",
       "4          Li-Ion        4        2017-02-01      145.0  ...         True   \n",
       "...           ...      ...               ...        ...  ...          ...   \n",
       "1507        Li-Po        8        2023-08-18      190.0  ...         True   \n",
       "1508        Li-Po        8        2023-08-23      190.0  ...         True   \n",
       "1509        Li-Po       16        2023-08-28      205.0  ...         True   \n",
       "1510        Li-Po       24        2023-08-28      205.0  ...         True   \n",
       "1511        Li-Po        8        2023-08-31      175.0  ...         True   \n",
       "\n",
       "      video_4K  video_8K  video_30fps  video_60fps  video_120fps  \\\n",
       "0        False     False         True        False         False   \n",
       "1        False     False         True        False         False   \n",
       "2        False     False         True        False         False   \n",
       "3        False     False         True        False          True   \n",
       "4         True     False         True         True         False   \n",
       "...        ...       ...          ...          ...           ...   \n",
       "1507     False     False         True        False         False   \n",
       "1508     False     False         True        False         False   \n",
       "1509      True     False        False         True         False   \n",
       "1510      True     False        False         True         False   \n",
       "1511      True     False         True        False         False   \n",
       "\n",
       "      video_240fps  video_480fps  video_960fps  price(USD)  \n",
       "0            False         False         False     120.000  \n",
       "1            False         False         False     100.000  \n",
       "2            False         False         False     420.000  \n",
       "3            False         False         False     150.000  \n",
       "4            False         False         False     420.000  \n",
       "...            ...           ...           ...         ...  \n",
       "1507         False         False         False     170.000  \n",
       "1508         False         False         False     182.880  \n",
       "1509         False         False         False     380.000  \n",
       "1510         False         False         False     470.000  \n",
       "1511         False         False         False     287.988  \n",
       "\n",
       "[1512 rows x 22 columns]"
      ]
     },
     "execution_count": 2,
     "metadata": {},
     "output_type": "execute_result"
    }
   ],
   "source": [
    "phone=pd.read_csv(r\"C:\\Users\\Nithya\\Downloads\\cleaned_all_phones.csv\")\n",
    "phone"
   ]
  },
  {
   "cell_type": "code",
   "execution_count": 3,
   "id": "0df4b5ed",
   "metadata": {},
   "outputs": [],
   "source": [
    "# 1.How many unique  mobile brands are there in the data provided"
   ]
  },
  {
   "cell_type": "code",
   "execution_count": 4,
   "id": "5970b170",
   "metadata": {},
   "outputs": [
    {
     "data": {
      "text/plain": [
       "array(['Huawei', 'LG', 'Xiaomi', 'Sony', 'Oppo', 'Samsung', 'Lenovo',\n",
       "       'Apple', 'Google', 'Honor', 'Realme', 'OnePlus', 'Vivo'],\n",
       "      dtype=object)"
      ]
     },
     "execution_count": 4,
     "metadata": {},
     "output_type": "execute_result"
    }
   ],
   "source": [
    "phone[\"brand\"].unique()"
   ]
  },
  {
   "cell_type": "code",
   "execution_count": 5,
   "id": "554b23e2",
   "metadata": {},
   "outputs": [],
   "source": [
    "# 2.What is the average ram size of all the collected data"
   ]
  },
  {
   "cell_type": "code",
   "execution_count": 6,
   "id": "96a295f8",
   "metadata": {},
   "outputs": [
    {
     "data": {
      "text/plain": [
       "6.6838624338624335"
      ]
     },
     "execution_count": 6,
     "metadata": {},
     "output_type": "execute_result"
    }
   ],
   "source": [
    "phone[\"ram(GB)\"].mean()"
   ]
  },
  {
   "cell_type": "code",
   "execution_count": 7,
   "id": "4f0c1ac6",
   "metadata": {},
   "outputs": [],
   "source": [
    "# 3.Which phone is having the maximum and minimum battery capacity"
   ]
  },
  {
   "cell_type": "code",
   "execution_count": 17,
   "id": "10d2a58b",
   "metadata": {},
   "outputs": [
    {
     "data": {
      "text/plain": [
       "573    V6\n",
       "Name: phone_name, dtype: object"
      ]
     },
     "execution_count": 17,
     "metadata": {},
     "output_type": "execute_result"
    }
   ],
   "source": [
    "#maximum battery\n",
    "phone.loc[phone[\"battery\"]==max(phone[\"battery\"]),\"phone_name\"]"
   ]
  },
  {
   "cell_type": "code",
   "execution_count": 18,
   "id": "669819e6",
   "metadata": {},
   "outputs": [
    {
     "data": {
      "text/plain": [
       "62             iPhone 8\n",
       "536    iPhone SE (2020)\n",
       "Name: phone_name, dtype: object"
      ]
     },
     "execution_count": 18,
     "metadata": {},
     "output_type": "execute_result"
    }
   ],
   "source": [
    "#minimum battery\n",
    "phone.loc[phone[\"battery\"]==min(phone[\"battery\"]),\"phone_name\"]"
   ]
  },
  {
   "cell_type": "code",
   "execution_count": 19,
   "id": "538b05c8",
   "metadata": {},
   "outputs": [],
   "source": [
    "# 4.What is the maximum battery capacity provided by Huawei Company"
   ]
  },
  {
   "cell_type": "code",
   "execution_count": 20,
   "id": "4c196741",
   "metadata": {},
   "outputs": [
    {
     "data": {
      "text/plain": [
       "7000"
      ]
     },
     "execution_count": 20,
     "metadata": {},
     "output_type": "execute_result"
    }
   ],
   "source": [
    "max(phone.loc[(phone[\"brand\"]==\"Huawei\"),\"battery\"])"
   ]
  },
  {
   "cell_type": "code",
   "execution_count": 21,
   "id": "5afe3f58",
   "metadata": {},
   "outputs": [],
   "source": [
    "# 5.Which Phone brand is providing the highest and lowest ram"
   ]
  },
  {
   "cell_type": "code",
   "execution_count": 22,
   "id": "96791ce1",
   "metadata": {},
   "outputs": [
    {
     "data": {
      "text/plain": [
       "'LG'"
      ]
     },
     "execution_count": 22,
     "metadata": {},
     "output_type": "execute_result"
    }
   ],
   "source": [
    "# Lowest RAM\n",
    "phone.loc[min(phone[\"ram(GB)\"]),\"brand\"]"
   ]
  },
  {
   "cell_type": "code",
   "execution_count": 23,
   "id": "55ab7e48",
   "metadata": {},
   "outputs": [
    {
     "data": {
      "text/plain": [
       "'Huawei'"
      ]
     },
     "execution_count": 23,
     "metadata": {},
     "output_type": "execute_result"
    }
   ],
   "source": [
    "# highest RAM\n",
    "phone.loc[max(phone[\"ram(GB)\"]),\"brand\"]"
   ]
  },
  {
   "cell_type": "code",
   "execution_count": 24,
   "id": "835b377c",
   "metadata": {},
   "outputs": [],
   "source": [
    "# 6.How many phones has android 7.0 as there operating system"
   ]
  },
  {
   "cell_type": "code",
   "execution_count": 25,
   "id": "7b3b45c9",
   "metadata": {},
   "outputs": [
    {
     "data": {
      "text/plain": [
       "33"
      ]
     },
     "execution_count": 25,
     "metadata": {},
     "output_type": "execute_result"
    }
   ],
   "source": [
    "len(phone.loc[phone[\"os\"]==\"Android 7.0\"])"
   ]
  },
  {
   "cell_type": "code",
   "execution_count": 26,
   "id": "9c4a5555",
   "metadata": {},
   "outputs": [],
   "source": [
    "# 7.Which Phone is the oldest "
   ]
  },
  {
   "cell_type": "code",
   "execution_count": 27,
   "id": "55ea6ca6",
   "metadata": {},
   "outputs": [
    {
     "data": {
      "text/plain": [
       "'2016-09-01'"
      ]
     },
     "execution_count": 27,
     "metadata": {},
     "output_type": "execute_result"
    }
   ],
   "source": [
    "min(phone[\"announcement_date\"])"
   ]
  },
  {
   "cell_type": "code",
   "execution_count": 28,
   "id": "d69952b9",
   "metadata": {},
   "outputs": [],
   "source": [
    "# 8.Which brand produced maximum number of phone in the given data"
   ]
  },
  {
   "cell_type": "code",
   "execution_count": 29,
   "id": "486ddc76",
   "metadata": {},
   "outputs": [
    {
     "data": {
      "text/plain": [
       "'Xiaomi'"
      ]
     },
     "execution_count": 29,
     "metadata": {},
     "output_type": "execute_result"
    }
   ],
   "source": [
    "phone.loc[max(phone[\"brand\"].value_counts()), \"brand\"]"
   ]
  },
  {
   "cell_type": "code",
   "execution_count": 30,
   "id": "11db57e8",
   "metadata": {},
   "outputs": [],
   "source": [
    "# 9.Give the count of phones supporting\n",
    "# 1)4k video\n",
    "# 2)8k video\n",
    "# 3)2k video"
   ]
  },
  {
   "cell_type": "code",
   "execution_count": 40,
   "id": "dae91fa2",
   "metadata": {},
   "outputs": [
    {
     "data": {
      "text/plain": [
       "801"
      ]
     },
     "execution_count": 40,
     "metadata": {},
     "output_type": "execute_result"
    }
   ],
   "source": [
    "len(phone.loc[phone[\"video_4K\"]==True])"
   ]
  },
  {
   "cell_type": "code",
   "execution_count": 42,
   "id": "8fa6f8bb",
   "metadata": {},
   "outputs": [
    {
     "data": {
      "text/plain": [
       "86"
      ]
     },
     "execution_count": 42,
     "metadata": {},
     "output_type": "execute_result"
    }
   ],
   "source": [
    "len(phone.loc[phone[\"video_8K\"]==True])"
   ]
  },
  {
   "cell_type": "code",
   "execution_count": 44,
   "id": "7592b196",
   "metadata": {},
   "outputs": [
    {
     "data": {
      "text/plain": [
       "1503"
      ]
     },
     "execution_count": 44,
     "metadata": {},
     "output_type": "execute_result"
    }
   ],
   "source": [
    "len(phone.loc[phone[\"video_1080p\"]==True])"
   ]
  },
  {
   "cell_type": "code",
   "execution_count": 48,
   "id": "a2b013c9",
   "metadata": {},
   "outputs": [],
   "source": [
    "# 10. How many phones supports Li-Po and Li-ion Battery"
   ]
  },
  {
   "cell_type": "code",
   "execution_count": 55,
   "id": "d53d091f",
   "metadata": {},
   "outputs": [
    {
     "data": {
      "text/html": [
       "<div>\n",
       "<style scoped>\n",
       "    .dataframe tbody tr th:only-of-type {\n",
       "        vertical-align: middle;\n",
       "    }\n",
       "\n",
       "    .dataframe tbody tr th {\n",
       "        vertical-align: top;\n",
       "    }\n",
       "\n",
       "    .dataframe thead th {\n",
       "        text-align: right;\n",
       "    }\n",
       "</style>\n",
       "<table border=\"1\" class=\"dataframe\">\n",
       "  <thead>\n",
       "    <tr style=\"text-align: right;\">\n",
       "      <th></th>\n",
       "      <th>phone_name</th>\n",
       "      <th>brand</th>\n",
       "      <th>os</th>\n",
       "      <th>inches</th>\n",
       "      <th>resolution</th>\n",
       "      <th>battery</th>\n",
       "      <th>battery_type</th>\n",
       "      <th>ram(GB)</th>\n",
       "      <th>announcement_date</th>\n",
       "      <th>weight(g)</th>\n",
       "      <th>...</th>\n",
       "      <th>video_1080p</th>\n",
       "      <th>video_4K</th>\n",
       "      <th>video_8K</th>\n",
       "      <th>video_30fps</th>\n",
       "      <th>video_60fps</th>\n",
       "      <th>video_120fps</th>\n",
       "      <th>video_240fps</th>\n",
       "      <th>video_480fps</th>\n",
       "      <th>video_960fps</th>\n",
       "      <th>price(USD)</th>\n",
       "    </tr>\n",
       "  </thead>\n",
       "  <tbody>\n",
       "  </tbody>\n",
       "</table>\n",
       "<p>0 rows × 22 columns</p>\n",
       "</div>"
      ],
      "text/plain": [
       "Empty DataFrame\n",
       "Columns: [phone_name, brand, os, inches, resolution, battery, battery_type, ram(GB), announcement_date, weight(g), storage(GB), video_720p, video_1080p, video_4K, video_8K, video_30fps, video_60fps, video_120fps, video_240fps, video_480fps, video_960fps, price(USD)]\n",
       "Index: []\n",
       "\n",
       "[0 rows x 22 columns]"
      ]
     },
     "execution_count": 55,
     "metadata": {},
     "output_type": "execute_result"
    }
   ],
   "source": [
    "phone.loc[(phone[\"battery_type\"]==\"Li-Po\") & (phone[\"battery_type\"]==\"Li-Ion\")]"
   ]
  },
  {
   "cell_type": "code",
   "execution_count": 56,
   "id": "c56e00d4",
   "metadata": {},
   "outputs": [],
   "source": [
    "# 11. How many sony phones supports 720x1280 resolution"
   ]
  },
  {
   "cell_type": "code",
   "execution_count": 60,
   "id": "7e2f3248",
   "metadata": {},
   "outputs": [
    {
     "data": {
      "text/plain": [
       "5"
      ]
     },
     "execution_count": 60,
     "metadata": {},
     "output_type": "execute_result"
    }
   ],
   "source": [
    "len(phone.loc[(phone[\"brand\"]==\"Sony\") & (phone[\"resolution\"]=='720x1280')])"
   ]
  },
  {
   "cell_type": "code",
   "execution_count": 61,
   "id": "58381898",
   "metadata": {},
   "outputs": [],
   "source": [
    "# 12.Print a pivot table for finding the average weights ,total weights,based on brand and battery type"
   ]
  },
  {
   "cell_type": "code",
   "execution_count": 69,
   "id": "e5fcabe1",
   "metadata": {},
   "outputs": [
    {
     "data": {
      "text/html": [
       "<div>\n",
       "<style scoped>\n",
       "    .dataframe tbody tr th:only-of-type {\n",
       "        vertical-align: middle;\n",
       "    }\n",
       "\n",
       "    .dataframe tbody tr th {\n",
       "        vertical-align: top;\n",
       "    }\n",
       "\n",
       "    .dataframe thead tr th {\n",
       "        text-align: left;\n",
       "    }\n",
       "</style>\n",
       "<table border=\"1\" class=\"dataframe\">\n",
       "  <thead>\n",
       "    <tr>\n",
       "      <th></th>\n",
       "      <th colspan=\"10\" halign=\"left\">mean</th>\n",
       "      <th>...</th>\n",
       "      <th colspan=\"10\" halign=\"left\">sum</th>\n",
       "    </tr>\n",
       "    <tr>\n",
       "      <th>brand</th>\n",
       "      <th>Apple</th>\n",
       "      <th colspan=\"2\" halign=\"left\">Google</th>\n",
       "      <th colspan=\"2\" halign=\"left\">Honor</th>\n",
       "      <th colspan=\"2\" halign=\"left\">Huawei</th>\n",
       "      <th colspan=\"2\" halign=\"left\">LG</th>\n",
       "      <th>Lenovo</th>\n",
       "      <th>...</th>\n",
       "      <th>Oppo</th>\n",
       "      <th colspan=\"2\" halign=\"left\">Realme</th>\n",
       "      <th colspan=\"2\" halign=\"left\">Samsung</th>\n",
       "      <th colspan=\"2\" halign=\"left\">Sony</th>\n",
       "      <th>Vivo</th>\n",
       "      <th colspan=\"2\" halign=\"left\">Xiaomi</th>\n",
       "    </tr>\n",
       "    <tr>\n",
       "      <th>battery_type</th>\n",
       "      <th>Li-Ion</th>\n",
       "      <th>Li-Ion</th>\n",
       "      <th>Li-Po</th>\n",
       "      <th>Li-Ion</th>\n",
       "      <th>Li-Po</th>\n",
       "      <th>Li-Ion</th>\n",
       "      <th>Li-Po</th>\n",
       "      <th>Li-Ion</th>\n",
       "      <th>Li-Po</th>\n",
       "      <th>Li-Ion</th>\n",
       "      <th>...</th>\n",
       "      <th>Li-Po</th>\n",
       "      <th>Li-Ion</th>\n",
       "      <th>Li-Po</th>\n",
       "      <th>Li-Ion</th>\n",
       "      <th>Li-Po</th>\n",
       "      <th>Li-Ion</th>\n",
       "      <th>Li-Po</th>\n",
       "      <th>Li-Po</th>\n",
       "      <th>Li-Ion</th>\n",
       "      <th>Li-Po</th>\n",
       "    </tr>\n",
       "  </thead>\n",
       "  <tbody>\n",
       "    <tr>\n",
       "      <th>weight(g)</th>\n",
       "      <td>186.227273</td>\n",
       "      <td>190.666667</td>\n",
       "      <td>176.923077</td>\n",
       "      <td>165.333333</td>\n",
       "      <td>190.61157</td>\n",
       "      <td>158.354839</td>\n",
       "      <td>187.556604</td>\n",
       "      <td>154.851852</td>\n",
       "      <td>183.8125</td>\n",
       "      <td>190.142857</td>\n",
       "      <td>...</td>\n",
       "      <td>34620.0</td>\n",
       "      <td>1001.0</td>\n",
       "      <td>28643.0</td>\n",
       "      <td>17139.0</td>\n",
       "      <td>21640.0</td>\n",
       "      <td>4256.0</td>\n",
       "      <td>2324.0</td>\n",
       "      <td>31959.0</td>\n",
       "      <td>3048.0</td>\n",
       "      <td>48389.0</td>\n",
       "    </tr>\n",
       "  </tbody>\n",
       "</table>\n",
       "<p>1 rows × 46 columns</p>\n",
       "</div>"
      ],
      "text/plain": [
       "                    mean                                                 \\\n",
       "brand              Apple      Google                   Honor              \n",
       "battery_type      Li-Ion      Li-Ion       Li-Po      Li-Ion      Li-Po   \n",
       "weight(g)     186.227273  190.666667  176.923077  165.333333  190.61157   \n",
       "\n",
       "                                                                        ...  \\\n",
       "brand             Huawei                      LG                Lenovo  ...   \n",
       "battery_type      Li-Ion       Li-Po      Li-Ion     Li-Po      Li-Ion  ...   \n",
       "weight(g)     158.354839  187.556604  154.851852  183.8125  190.142857  ...   \n",
       "\n",
       "                  sum                                                     \\\n",
       "brand            Oppo  Realme           Samsung             Sony           \n",
       "battery_type    Li-Po  Li-Ion    Li-Po   Li-Ion    Li-Po  Li-Ion   Li-Po   \n",
       "weight(g)     34620.0  1001.0  28643.0  17139.0  21640.0  4256.0  2324.0   \n",
       "\n",
       "                                        \n",
       "brand            Vivo  Xiaomi           \n",
       "battery_type    Li-Po  Li-Ion    Li-Po  \n",
       "weight(g)     31959.0  3048.0  48389.0  \n",
       "\n",
       "[1 rows x 46 columns]"
      ]
     },
     "execution_count": 69,
     "metadata": {},
     "output_type": "execute_result"
    }
   ],
   "source": [
    "pd.pivot_table(phone, columns=[\"brand\",\"battery_type\"], values=\"weight(g)\", aggfunc=[\"mean\",\"sum\"])"
   ]
  },
  {
   "cell_type": "code",
   "execution_count": null,
   "id": "3bd19fc3",
   "metadata": {},
   "outputs": [],
   "source": []
  }
 ],
 "metadata": {
  "kernelspec": {
   "display_name": "Python 3 (ipykernel)",
   "language": "python",
   "name": "python3"
  },
  "language_info": {
   "codemirror_mode": {
    "name": "ipython",
    "version": 3
   },
   "file_extension": ".py",
   "mimetype": "text/x-python",
   "name": "python",
   "nbconvert_exporter": "python",
   "pygments_lexer": "ipython3",
   "version": "3.10.9"
  }
 },
 "nbformat": 4,
 "nbformat_minor": 5
}
