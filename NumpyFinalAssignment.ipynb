{
 "cells": [
  {
   "cell_type": "code",
   "execution_count": 2,
   "id": "7658f057",
   "metadata": {},
   "outputs": [],
   "source": [
    "import numpy as np"
   ]
  },
  {
   "cell_type": "code",
   "execution_count": 35,
   "id": "05b9a156",
   "metadata": {},
   "outputs": [
    {
     "name": "stdout",
     "output_type": "stream",
     "text": [
      "[[  0.    16.99   1.01 ...   1.     0.     2.  ]\n",
      " [  1.    10.34   1.66 ...   1.     0.     3.  ]\n",
      " [  2.    21.01   3.5  ...   1.     0.     3.  ]\n",
      " ...\n",
      " [241.    22.67   2.   ...   0.     0.     2.  ]\n",
      " [242.    17.82   1.75 ...   0.     0.     2.  ]\n",
      " [243.    18.78   3.   ...   2.     0.     2.  ]]\n"
     ]
    }
   ],
   "source": [
    "d=np.genfromtxt(r\"C:\\Users\\Nithya\\Downloads\\tipsf.csv\", delimiter=\",\", skip_header=1)\n",
    "print(d)"
   ]
  },
  {
   "cell_type": "code",
   "execution_count": 6,
   "id": "257c33ea",
   "metadata": {},
   "outputs": [],
   "source": [
    "# 1. What is the total bill value"
   ]
  },
  {
   "cell_type": "code",
   "execution_count": 7,
   "id": "bc207e06",
   "metadata": {},
   "outputs": [
    {
     "data": {
      "text/plain": [
       "4827.77"
      ]
     },
     "execution_count": 7,
     "metadata": {},
     "output_type": "execute_result"
    }
   ],
   "source": [
    "np.sum(d[:,1])"
   ]
  },
  {
   "cell_type": "code",
   "execution_count": 8,
   "id": "bc5f5663",
   "metadata": {},
   "outputs": [],
   "source": [
    "# 2. What is the total tip value"
   ]
  },
  {
   "cell_type": "code",
   "execution_count": 9,
   "id": "2d177eaa",
   "metadata": {},
   "outputs": [
    {
     "data": {
      "text/plain": [
       "731.5799999999999"
      ]
     },
     "execution_count": 9,
     "metadata": {},
     "output_type": "execute_result"
    }
   ],
   "source": [
    "np.sum(d[:,2])"
   ]
  },
  {
   "cell_type": "code",
   "execution_count": 10,
   "id": "2f020915",
   "metadata": {},
   "outputs": [],
   "source": [
    "# 3. Count how many sun,sat,thurs,fri are there"
   ]
  },
  {
   "cell_type": "code",
   "execution_count": 12,
   "id": "e41ed47b",
   "metadata": {},
   "outputs": [
    {
     "name": "stdout",
     "output_type": "stream",
     "text": [
      "sunday : 76\n",
      "saturday : 87\n",
      "thursday : 62\n",
      "Friday : 19\n"
     ]
    }
   ],
   "source": [
    "day=np.unique(d[:,5],return_counts=True)\n",
    "count=day[1]\n",
    "print(\"sunday :\",count[1])\n",
    "print(\"saturday :\",count[0])\n",
    "print(\"thursday :\",count[2])\n",
    "print(\"Friday :\",count[3])"
   ]
  },
  {
   "cell_type": "code",
   "execution_count": 1,
   "id": "d6243dbf",
   "metadata": {},
   "outputs": [],
   "source": [
    "# 4. How many smokers are there"
   ]
  },
  {
   "cell_type": "code",
   "execution_count": 6,
   "id": "dd82276b",
   "metadata": {},
   "outputs": [
    {
     "name": "stdout",
     "output_type": "stream",
     "text": [
      "Smokers 93\n"
     ]
    }
   ],
   "source": [
    "smokers = d[:,4][d[:,4]==1]\n",
    "print(\"Smokers {}\".format(len(smokers)))"
   ]
  },
  {
   "cell_type": "code",
   "execution_count": 7,
   "id": "45299c68",
   "metadata": {},
   "outputs": [],
   "source": [
    "# 5. What is the average tip given by female and male"
   ]
  },
  {
   "cell_type": "code",
   "execution_count": 9,
   "id": "438765d6",
   "metadata": {},
   "outputs": [
    {
     "name": "stdout",
     "output_type": "stream",
     "text": [
      "Average of female tip 3.0896178343949043\n",
      "Average of male tip 2.8334482758620685\n"
     ]
    }
   ],
   "source": [
    "female_tip = d[:,2][d[:,3]==1]\n",
    "male_tip = d[:,2][d[:,3]==0]\n",
    "print(\"Average of female tip\",np.average(female_tip))\n",
    "print(\"Average of male tip\",np.average(male_tip))"
   ]
  },
  {
   "cell_type": "code",
   "execution_count": 10,
   "id": "b87d471c",
   "metadata": {},
   "outputs": [],
   "source": [
    "# 6. How much amount have been spent by female and male"
   ]
  },
  {
   "cell_type": "code",
   "execution_count": 11,
   "id": "68d44162",
   "metadata": {},
   "outputs": [
    {
     "name": "stdout",
     "output_type": "stream",
     "text": [
      "Total amount spent by female is:  3256.8199999999997\n",
      "Total amount spent by male is:  1570.9499999999996\n"
     ]
    }
   ],
   "source": [
    "male_amount = d[:,1][d[:,3]==0]\n",
    "female_amount = d[:,1][d[:,3]==1]\n",
    "print(\"Total amount spent by female is: \",np.sum(female_amount))\n",
    "print(\"Total amount spent by male is: \",np.sum(male_amount))"
   ]
  },
  {
   "cell_type": "code",
   "execution_count": 12,
   "id": "e766c827",
   "metadata": {},
   "outputs": [],
   "source": [
    "# 7. What is the minimum and maximum tip given"
   ]
  },
  {
   "cell_type": "code",
   "execution_count": 13,
   "id": "b57f5431",
   "metadata": {},
   "outputs": [
    {
     "name": "stdout",
     "output_type": "stream",
     "text": [
      "Maximum tip given is:  10.0\n",
      "Minimum tip given is:  1.0\n"
     ]
    }
   ],
   "source": [
    "print(\"Maximum tip given is: \", np.max(d[:,2]))\n",
    "print(\"Minimum tip given is: \", np.min(d[:,2]))"
   ]
  },
  {
   "cell_type": "code",
   "execution_count": 14,
   "id": "6ca6c016",
   "metadata": {},
   "outputs": [],
   "source": [
    "# 8. How many male and female are going for dinner and lunch"
   ]
  },
  {
   "cell_type": "code",
   "execution_count": 25,
   "id": "2adf77af",
   "metadata": {},
   "outputs": [
    {
     "name": "stdout",
     "output_type": "stream",
     "text": [
      "Total no.of females going for lunch are: 124\n",
      "Total no.of females going for dinner are: 33\n",
      "Total no.of males going for lunch are: 52\n",
      "Total no.of males going for dinner are: 35\n"
     ]
    }
   ],
   "source": [
    "print(\"Total no.of females going for lunch are: {}\".format(np.sum((d[:,3]==1)&(d[:,6]==0))))\n",
    "print(\"Total no.of females going for dinner are: {}\".format(np.sum((d[:,3]==1)&(d[:,6]==1))))\n",
    "print(\"Total no.of males going for lunch are: {}\".format(np.sum((d[:,3]==0)&(d[:,6]==0))))\n",
    "print(\"Total no.of males going for dinner are: {}\".format(np.sum((d[:,3]==0)&(d[:,6]==1))))"
   ]
  },
  {
   "cell_type": "code",
   "execution_count": 26,
   "id": "b6ef4d2d",
   "metadata": {},
   "outputs": [],
   "source": [
    "# 9. find out the average size"
   ]
  },
  {
   "cell_type": "code",
   "execution_count": 27,
   "id": "1e278a35",
   "metadata": {},
   "outputs": [
    {
     "name": "stdout",
     "output_type": "stream",
     "text": [
      "Average size is:  2.569672131147541\n"
     ]
    }
   ],
   "source": [
    "print(\"Average size is: \", np.average(d[:,7]))"
   ]
  },
  {
   "cell_type": "code",
   "execution_count": 28,
   "id": "ec467276",
   "metadata": {},
   "outputs": [],
   "source": [
    "# 10. Find the number of female smokers and male smokers"
   ]
  },
  {
   "cell_type": "code",
   "execution_count": 32,
   "id": "460ab59a",
   "metadata": {},
   "outputs": [
    {
     "name": "stdout",
     "output_type": "stream",
     "text": [
      "Total no.of female smokers are:  60\n",
      "Total no.of male smokers are:  33\n"
     ]
    }
   ],
   "source": [
    "print(\"Total no.of female smokers are: \", len(d[:,4][(d[:,4]==1) & (d[:,3]==1)]))\n",
    "print(\"Total no.of male smokers are: \", len(d[:,4][(d[:,4]==1) & (d[:,3]==0)]))"
   ]
  },
  {
   "cell_type": "code",
   "execution_count": 34,
   "id": "2f0ef5de",
   "metadata": {},
   "outputs": [
    {
     "name": "stdout",
     "output_type": "stream",
     "text": [
      "[[ 1.575       1.225       0.375      ...  6.3219385   9.63883\n",
      "  10.        ]\n",
      " [ 1.2375      1.          0.375      ...  3.798833    7.654365\n",
      "  19.        ]\n",
      " [ 1.45        1.1625      0.4125     ...  7.01650125  7.257472\n",
      "  11.        ]\n",
      " ...\n",
      " [ 1.125       0.9125      0.2875     ...  1.984465    3.118445\n",
      "   7.        ]\n",
      " [ 1.625       1.275       0.4125     ...  7.86698625 10.489315\n",
      "  11.        ]\n",
      " [ 1.5875      1.25        0.3875     ...  7.38504475  8.788345\n",
      "  11.        ]]\n"
     ]
    }
   ],
   "source": [
    "t=np.genfromtxt(r\"C:\\Users\\Nithya\\Downloads\\train_extended.csv\", delimiter=\",\", skip_header=1)\n",
    "print(t)"
   ]
  },
  {
   "cell_type": "code",
   "execution_count": 36,
   "id": "38579674",
   "metadata": {},
   "outputs": [],
   "source": [
    "# 1. What is the maximum and minimum length"
   ]
  },
  {
   "cell_type": "code",
   "execution_count": 40,
   "id": "12bef961",
   "metadata": {},
   "outputs": [
    {
     "name": "stdout",
     "output_type": "stream",
     "text": [
      "The maximum length is:  7.58349125\n",
      "The minimum length is:  0.0\n"
     ]
    }
   ],
   "source": [
    "x = np.max(t[:,0])\n",
    "y = np.min(t[:,0])\n",
    "print(\"The maximum length is: \", x)\n",
    "print(\"The minimum length is: \", y)"
   ]
  },
  {
   "cell_type": "code",
   "execution_count": 39,
   "id": "5b898b6a",
   "metadata": {},
   "outputs": [],
   "source": [
    "# 2. Find out the difference between maximum and minimum length"
   ]
  },
  {
   "cell_type": "code",
   "execution_count": 41,
   "id": "3db57a63",
   "metadata": {},
   "outputs": [
    {
     "name": "stdout",
     "output_type": "stream",
     "text": [
      "The difference between maximum and minimum length is:  7.58349125\n"
     ]
    }
   ],
   "source": [
    "print(\"The difference between maximum and minimum length is: \", x-y)"
   ]
  },
  {
   "cell_type": "code",
   "execution_count": 42,
   "id": "777fdae5",
   "metadata": {},
   "outputs": [],
   "source": [
    "# 3. Find column wise average"
   ]
  },
  {
   "cell_type": "code",
   "execution_count": 47,
   "id": "45468853",
   "metadata": {},
   "outputs": [
    {
     "name": "stdout",
     "output_type": "stream",
     "text": [
      "Average length is:  1.3124480799562501\n",
      "Average diameter is:  1.020320357165\n",
      "Average height is:  0.34602787104999994\n",
      "Average weight is:  23.123436312982403\n",
      "Average shucked weight is:  9.989370248049001\n",
      "Average viscera weight is:  4.993180956748749\n",
      "Average shell weight is:  6.634229147607001\n",
      "Average age is:  9.950615\n"
     ]
    }
   ],
   "source": [
    "print(\"Average length is: \", np.average(t[:,0]))\n",
    "print(\"Average diameter is: \", np.average(t[:,1]))\n",
    "print(\"Average height is: \", np.average(t[:,2]))\n",
    "print(\"Average weight is: \", np.average(t[:,3]))\n",
    "print(\"Average shucked weight is: \", np.average(t[:,4]))\n",
    "print(\"Average viscera weight is: \", np.average(t[:,5]))\n",
    "print(\"Average shell weight is: \", np.average(t[:,6]))\n",
    "print(\"Average age is: \", np.average(t[:,7]))"
   ]
  },
  {
   "cell_type": "code",
   "execution_count": 46,
   "id": "1c340781",
   "metadata": {},
   "outputs": [],
   "source": [
    "# 4. Find out all the ages whose height > 0.4"
   ]
  },
  {
   "cell_type": "code",
   "execution_count": 48,
   "id": "afa53b6f",
   "metadata": {},
   "outputs": [
    {
     "name": "stdout",
     "output_type": "stream",
     "text": [
      "The ages with height > 0.4 are:  [11. 14. 13. ... 11. 11. 11.]\n"
     ]
    }
   ],
   "source": [
    "print(\"The ages with height > 0.4 are: \", t[:,7][t[:,2]>0.4])"
   ]
  },
  {
   "cell_type": "code",
   "execution_count": 49,
   "id": "615eba27",
   "metadata": {},
   "outputs": [],
   "source": [
    "# 5. What is the average height and weight of persons whose age is 10"
   ]
  },
  {
   "cell_type": "code",
   "execution_count": 52,
   "id": "d8aef6da",
   "metadata": {},
   "outputs": [
    {
     "name": "stdout",
     "output_type": "stream",
     "text": [
      "The average height is:  0.3833672856539947\n",
      "The average weight is:  28.243308450511314\n"
     ]
    }
   ],
   "source": [
    "print(\"The average height is: \",np.average(t[:,2][t[:,7]==10]))\n",
    "print(\"The average weight is: \",np.average(t[:,3][t[:,7]==10]))"
   ]
  },
  {
   "cell_type": "code",
   "execution_count": 53,
   "id": "9fb72286",
   "metadata": {},
   "outputs": [],
   "source": [
    "# 6. What is the total shell weight"
   ]
  },
  {
   "cell_type": "code",
   "execution_count": 54,
   "id": "38f6f9d3",
   "metadata": {},
   "outputs": [
    {
     "name": "stdout",
     "output_type": "stream",
     "text": [
      "Total shell weight is:  1326845.8295214002\n"
     ]
    }
   ],
   "source": [
    "print(\"Total shell weight is: \", np.sum(t[:,6]))"
   ]
  },
  {
   "cell_type": "code",
   "execution_count": 55,
   "id": "183baf6e",
   "metadata": {},
   "outputs": [],
   "source": [
    "# 7. How many persons belong to each and every unique age"
   ]
  },
  {
   "cell_type": "code",
   "execution_count": 58,
   "id": "12088b94",
   "metadata": {},
   "outputs": [
    {
     "data": {
      "text/plain": [
       "(array([ 1.,  2.,  3.,  4.,  5.,  6.,  7.,  8.,  9., 10., 11., 12., 13.,\n",
       "        14., 15., 16., 17., 18., 19., 20., 21., 22., 23., 24., 25., 26.,\n",
       "        27., 29.]),\n",
       " array([   46,    42,   625,  2787,  5475, 12450, 18276, 26818, 32906,\n",
       "        30803, 23457, 12717, 10037,  6352,  4831,  3191,  2705,  1953,\n",
       "         1591,  1206,   721,   296,   352,   110,    51,    46,    99,\n",
       "           57], dtype=int64))"
      ]
     },
     "execution_count": 58,
     "metadata": {},
     "output_type": "execute_result"
    }
   ],
   "source": [
    "np.unique(t[:,-1],return_counts=True)"
   ]
  },
  {
   "cell_type": "code",
   "execution_count": 59,
   "id": "aa377e05",
   "metadata": {},
   "outputs": [],
   "source": [
    "# 8. What is the difference between shucked weight and viscera weight"
   ]
  },
  {
   "cell_type": "code",
   "execution_count": 60,
   "id": "586eabec",
   "metadata": {},
   "outputs": [
    {
     "name": "stdout",
     "output_type": "stream",
     "text": [
      "The difference between shucked weight and viscera weight is:  999237.8582600503\n"
     ]
    }
   ],
   "source": [
    "print(\"The difference between shucked weight and viscera weight is: \", np.sum(t[:,4])-np.sum(t[:,5]))"
   ]
  },
  {
   "cell_type": "code",
   "execution_count": 61,
   "id": "0865f715",
   "metadata": {},
   "outputs": [],
   "source": [
    "# 9. what is the average height of persons whose age is between 14 and 19"
   ]
  },
  {
   "cell_type": "code",
   "execution_count": 64,
   "id": "7c71e913",
   "metadata": {},
   "outputs": [
    {
     "name": "stdout",
     "output_type": "stream",
     "text": [
      "The average height of persons whose age is between 14 and 19 is:  0.4190701892744479\n"
     ]
    }
   ],
   "source": [
    "print(\"The average height of persons whose age is between 14 and 19 is: \", np.average(t[:,2][(t[:,-1]>14) & (t[:,-1]<19)]))"
   ]
  },
  {
   "cell_type": "code",
   "execution_count": 65,
   "id": "b2bb4839",
   "metadata": {},
   "outputs": [],
   "source": [
    "# 10. What is the average weight of shucked weight, viscera weight, shell weight"
   ]
  },
  {
   "cell_type": "code",
   "execution_count": 69,
   "id": "99526c74",
   "metadata": {},
   "outputs": [
    {
     "name": "stdout",
     "output_type": "stream",
     "text": [
      "The average of shuckedweight,visceraweight,shellweight is: 4323356.07048095\n"
     ]
    }
   ],
   "source": [
    "print(\"The average of shuckedweight,visceraweight,shellweight is:\", np.average(np.sum(t[:,-2])+np.sum(t[:,-3])+np.sum(t[:,-4])))"
   ]
  },
  {
   "cell_type": "code",
   "execution_count": null,
   "id": "4a476814",
   "metadata": {},
   "outputs": [],
   "source": []
  }
 ],
 "metadata": {
  "kernelspec": {
   "display_name": "Python 3 (ipykernel)",
   "language": "python",
   "name": "python3"
  },
  "language_info": {
   "codemirror_mode": {
    "name": "ipython",
    "version": 3
   },
   "file_extension": ".py",
   "mimetype": "text/x-python",
   "name": "python",
   "nbconvert_exporter": "python",
   "pygments_lexer": "ipython3",
   "version": "3.10.9"
  }
 },
 "nbformat": 4,
 "nbformat_minor": 5
}
