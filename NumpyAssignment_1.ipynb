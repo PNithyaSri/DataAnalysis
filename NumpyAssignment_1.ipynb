{
  "nbformat": 4,
  "nbformat_minor": 0,
  "metadata": {
    "colab": {
      "provenance": []
    },
    "kernelspec": {
      "name": "python3",
      "display_name": "Python 3"
    },
    "language_info": {
      "name": "python"
    }
  },
  "cells": [
    {
      "cell_type": "code",
      "execution_count": null,
      "metadata": {
        "id": "hfbSP1x3XPJ1"
      },
      "outputs": [],
      "source": [
        "import numpy as np"
      ]
    },
    {
      "cell_type": "code",
      "source": [
        "# 1) Write a program to create a 5 dimensional array with all zeros and ones"
      ],
      "metadata": {
        "id": "tx-EoS2aXg3n"
      },
      "execution_count": null,
      "outputs": []
    },
    {
      "cell_type": "code",
      "source": [
        "arr1 = np.random.choice([1,0], size=[3,4,3,4,3])\n",
        "arr1"
      ],
      "metadata": {
        "colab": {
          "base_uri": "https://localhost:8080/"
        },
        "id": "qIpjMfOQXcXp",
        "outputId": "7cbc8d97-2616-4b80-99a6-adbc55d25b9d"
      },
      "execution_count": null,
      "outputs": [
        {
          "output_type": "execute_result",
          "data": {
            "text/plain": [
              "array([[[[[0, 1, 1],\n",
              "          [1, 0, 0],\n",
              "          [0, 1, 0],\n",
              "          [1, 1, 0]],\n",
              "\n",
              "         [[1, 1, 0],\n",
              "          [0, 1, 1],\n",
              "          [0, 1, 0],\n",
              "          [1, 0, 0]],\n",
              "\n",
              "         [[0, 0, 1],\n",
              "          [1, 0, 0],\n",
              "          [1, 0, 1],\n",
              "          [0, 0, 0]]],\n",
              "\n",
              "\n",
              "        [[[0, 0, 1],\n",
              "          [0, 1, 0],\n",
              "          [1, 1, 1],\n",
              "          [0, 1, 1]],\n",
              "\n",
              "         [[1, 0, 1],\n",
              "          [0, 1, 0],\n",
              "          [1, 1, 0],\n",
              "          [1, 0, 1]],\n",
              "\n",
              "         [[1, 1, 1],\n",
              "          [0, 1, 0],\n",
              "          [1, 0, 1],\n",
              "          [1, 0, 0]]],\n",
              "\n",
              "\n",
              "        [[[0, 0, 1],\n",
              "          [1, 1, 1],\n",
              "          [0, 1, 1],\n",
              "          [0, 0, 0]],\n",
              "\n",
              "         [[0, 0, 0],\n",
              "          [0, 0, 0],\n",
              "          [0, 0, 0],\n",
              "          [0, 1, 0]],\n",
              "\n",
              "         [[1, 1, 1],\n",
              "          [1, 0, 0],\n",
              "          [0, 1, 1],\n",
              "          [1, 0, 0]]],\n",
              "\n",
              "\n",
              "        [[[0, 0, 0],\n",
              "          [0, 0, 1],\n",
              "          [1, 1, 1],\n",
              "          [0, 0, 1]],\n",
              "\n",
              "         [[1, 0, 0],\n",
              "          [0, 0, 0],\n",
              "          [0, 0, 1],\n",
              "          [1, 1, 0]],\n",
              "\n",
              "         [[1, 1, 0],\n",
              "          [1, 1, 0],\n",
              "          [1, 1, 0],\n",
              "          [1, 1, 0]]]],\n",
              "\n",
              "\n",
              "\n",
              "       [[[[0, 1, 0],\n",
              "          [0, 0, 0],\n",
              "          [0, 0, 0],\n",
              "          [0, 0, 1]],\n",
              "\n",
              "         [[0, 1, 0],\n",
              "          [1, 0, 1],\n",
              "          [1, 1, 0],\n",
              "          [0, 1, 0]],\n",
              "\n",
              "         [[1, 0, 1],\n",
              "          [1, 0, 0],\n",
              "          [1, 0, 0],\n",
              "          [0, 0, 0]]],\n",
              "\n",
              "\n",
              "        [[[0, 1, 1],\n",
              "          [0, 1, 1],\n",
              "          [1, 1, 0],\n",
              "          [1, 0, 1]],\n",
              "\n",
              "         [[0, 0, 1],\n",
              "          [0, 0, 0],\n",
              "          [0, 0, 0],\n",
              "          [0, 0, 1]],\n",
              "\n",
              "         [[0, 0, 0],\n",
              "          [0, 0, 1],\n",
              "          [0, 0, 0],\n",
              "          [0, 1, 1]]],\n",
              "\n",
              "\n",
              "        [[[0, 1, 1],\n",
              "          [0, 1, 1],\n",
              "          [1, 1, 0],\n",
              "          [1, 1, 0]],\n",
              "\n",
              "         [[1, 0, 1],\n",
              "          [0, 0, 1],\n",
              "          [1, 0, 1],\n",
              "          [0, 0, 0]],\n",
              "\n",
              "         [[1, 1, 1],\n",
              "          [0, 0, 1],\n",
              "          [0, 1, 1],\n",
              "          [0, 0, 1]]],\n",
              "\n",
              "\n",
              "        [[[1, 1, 0],\n",
              "          [0, 1, 1],\n",
              "          [0, 1, 1],\n",
              "          [0, 0, 1]],\n",
              "\n",
              "         [[0, 1, 1],\n",
              "          [0, 0, 1],\n",
              "          [0, 0, 1],\n",
              "          [1, 0, 0]],\n",
              "\n",
              "         [[1, 1, 0],\n",
              "          [0, 1, 0],\n",
              "          [1, 1, 1],\n",
              "          [0, 1, 1]]]],\n",
              "\n",
              "\n",
              "\n",
              "       [[[[1, 1, 1],\n",
              "          [1, 0, 1],\n",
              "          [1, 0, 0],\n",
              "          [1, 0, 0]],\n",
              "\n",
              "         [[0, 0, 0],\n",
              "          [1, 0, 0],\n",
              "          [1, 1, 1],\n",
              "          [1, 0, 1]],\n",
              "\n",
              "         [[0, 1, 0],\n",
              "          [1, 1, 0],\n",
              "          [1, 0, 0],\n",
              "          [1, 1, 1]]],\n",
              "\n",
              "\n",
              "        [[[1, 1, 1],\n",
              "          [0, 0, 1],\n",
              "          [0, 0, 0],\n",
              "          [1, 1, 1]],\n",
              "\n",
              "         [[0, 1, 1],\n",
              "          [0, 0, 0],\n",
              "          [0, 1, 0],\n",
              "          [1, 1, 1]],\n",
              "\n",
              "         [[0, 0, 1],\n",
              "          [0, 0, 0],\n",
              "          [1, 1, 1],\n",
              "          [0, 1, 0]]],\n",
              "\n",
              "\n",
              "        [[[1, 1, 0],\n",
              "          [0, 1, 1],\n",
              "          [1, 0, 1],\n",
              "          [1, 1, 0]],\n",
              "\n",
              "         [[1, 0, 1],\n",
              "          [0, 0, 1],\n",
              "          [0, 0, 0],\n",
              "          [0, 1, 0]],\n",
              "\n",
              "         [[1, 0, 0],\n",
              "          [1, 1, 0],\n",
              "          [1, 1, 1],\n",
              "          [1, 0, 0]]],\n",
              "\n",
              "\n",
              "        [[[1, 0, 1],\n",
              "          [0, 1, 1],\n",
              "          [1, 1, 1],\n",
              "          [0, 1, 1]],\n",
              "\n",
              "         [[0, 1, 1],\n",
              "          [0, 0, 0],\n",
              "          [1, 1, 1],\n",
              "          [1, 0, 1]],\n",
              "\n",
              "         [[0, 0, 1],\n",
              "          [1, 1, 0],\n",
              "          [1, 1, 0],\n",
              "          [1, 0, 0]]]]])"
            ]
          },
          "metadata": {},
          "execution_count": 11
        }
      ]
    },
    {
      "cell_type": "code",
      "source": [
        "# 2) Write a program to create an array of 10 zeros,10 ones, and 10 fives in row 1 2 and 3 which create a new array of shape (3,10)"
      ],
      "metadata": {
        "id": "d3r8KfhhYDew"
      },
      "execution_count": null,
      "outputs": []
    },
    {
      "cell_type": "code",
      "source": [
        "arr2 = np.array([[0,0,0,0,0,0,0,0,0,0],[1,1,1,1,1,1,1,1,1,1],[5,5,5,5,5,5,5,5,5,5]])\n",
        "arr2"
      ],
      "metadata": {
        "colab": {
          "base_uri": "https://localhost:8080/"
        },
        "id": "zlyTHr5Raoe4",
        "outputId": "2b2c429d-6b9e-42af-a410-72baa15f84f4"
      },
      "execution_count": null,
      "outputs": [
        {
          "output_type": "execute_result",
          "data": {
            "text/plain": [
              "array([[0, 0, 0, 0, 0, 0, 0, 0, 0, 0],\n",
              "       [1, 1, 1, 1, 1, 1, 1, 1, 1, 1],\n",
              "       [5, 5, 5, 5, 5, 5, 5, 5, 5, 5]])"
            ]
          },
          "metadata": {},
          "execution_count": 16
        }
      ]
    },
    {
      "cell_type": "code",
      "source": [
        "# 3) Write a program to create a 3x4 matrix filled with values from 10 to 21."
      ],
      "metadata": {
        "id": "wUr-LacabfZQ"
      },
      "execution_count": null,
      "outputs": []
    },
    {
      "cell_type": "code",
      "source": [
        "arr3 = np.random.randint(10,21,size=[3,4])\n",
        "arr3"
      ],
      "metadata": {
        "colab": {
          "base_uri": "https://localhost:8080/"
        },
        "id": "NH0G7c7BcgrC",
        "outputId": "306f2ef1-f020-44be-a4a6-b133eef3b855"
      },
      "execution_count": null,
      "outputs": [
        {
          "output_type": "execute_result",
          "data": {
            "text/plain": [
              "array([[11, 15, 16, 13],\n",
              "       [13, 12, 14, 15],\n",
              "       [13, 13, 19, 16]])"
            ]
          },
          "metadata": {},
          "execution_count": 19
        }
      ]
    },
    {
      "cell_type": "code",
      "source": [
        "# 4) Write a  program to create a 10x10 zero matrix with elements on the main diagonal equal to 0,1,2,3,4,5,6,7,8,9,\n"
      ],
      "metadata": {
        "id": "xDw8RKlfc3LQ"
      },
      "execution_count": null,
      "outputs": []
    },
    {
      "cell_type": "code",
      "source": [
        "arr4 = np.diag([0,1,2,3,4,5,6,7,8,9])\n",
        "arr4"
      ],
      "metadata": {
        "colab": {
          "base_uri": "https://localhost:8080/"
        },
        "id": "Hr1l7wEMdN92",
        "outputId": "41f73708-52d9-4547-9a8d-72229ad04a35"
      },
      "execution_count": null,
      "outputs": [
        {
          "output_type": "execute_result",
          "data": {
            "text/plain": [
              "array([[0, 0, 0, 0, 0, 0, 0, 0, 0, 0],\n",
              "       [0, 1, 0, 0, 0, 0, 0, 0, 0, 0],\n",
              "       [0, 0, 2, 0, 0, 0, 0, 0, 0, 0],\n",
              "       [0, 0, 0, 3, 0, 0, 0, 0, 0, 0],\n",
              "       [0, 0, 0, 0, 4, 0, 0, 0, 0, 0],\n",
              "       [0, 0, 0, 0, 0, 5, 0, 0, 0, 0],\n",
              "       [0, 0, 0, 0, 0, 0, 6, 0, 0, 0],\n",
              "       [0, 0, 0, 0, 0, 0, 0, 7, 0, 0],\n",
              "       [0, 0, 0, 0, 0, 0, 0, 0, 8, 0],\n",
              "       [0, 0, 0, 0, 0, 0, 0, 0, 0, 9]])"
            ]
          },
          "metadata": {},
          "execution_count": 22
        }
      ]
    },
    {
      "cell_type": "code",
      "source": [
        "# 5)Write a program to create a 4x4 array. Create an array from below array by swapping first and last, second and third columns."
      ],
      "metadata": {
        "id": "ovc3ebOedVy8"
      },
      "execution_count": null,
      "outputs": []
    },
    {
      "cell_type": "code",
      "source": [
        "arr5 = np.arange(1,17).reshape(4,4)\n",
        "arr5"
      ],
      "metadata": {
        "colab": {
          "base_uri": "https://localhost:8080/"
        },
        "id": "GGqocoyfdoIN",
        "outputId": "fca83a19-0ca6-4db6-a73a-392f36a63efa"
      },
      "execution_count": null,
      "outputs": [
        {
          "output_type": "execute_result",
          "data": {
            "text/plain": [
              "array([[ 1,  2,  3,  4],\n",
              "       [ 5,  6,  7,  8],\n",
              "       [ 9, 10, 11, 12],\n",
              "       [13, 14, 15, 16]])"
            ]
          },
          "metadata": {},
          "execution_count": 24
        }
      ]
    },
    {
      "cell_type": "code",
      "source": [
        "arr5[:,::-1]"
      ],
      "metadata": {
        "colab": {
          "base_uri": "https://localhost:8080/"
        },
        "id": "82E_mBNZdvbo",
        "outputId": "0cae4ded-e657-45b2-ffe4-9910f519cd82"
      },
      "execution_count": null,
      "outputs": [
        {
          "output_type": "execute_result",
          "data": {
            "text/plain": [
              "array([[ 4,  3,  2,  1],\n",
              "       [ 8,  7,  6,  5],\n",
              "       [12, 11, 10,  9],\n",
              "       [16, 15, 14, 13]])"
            ]
          },
          "metadata": {},
          "execution_count": 27
        }
      ]
    },
    {
      "cell_type": "code",
      "source": [
        "# 6) Write a program to reverse an array (the first element becomes the last).\n"
      ],
      "metadata": {
        "id": "MBxyLFjFd49y"
      },
      "execution_count": null,
      "outputs": []
    },
    {
      "cell_type": "code",
      "source": [
        "arr6 = np.arange(12,28)\n",
        "print(arr6)\n",
        "print(arr6[::-1])"
      ],
      "metadata": {
        "colab": {
          "base_uri": "https://localhost:8080/"
        },
        "id": "FFnu0_BSfeds",
        "outputId": "c3261b8b-117b-44c6-be64-98a56b98522d"
      },
      "execution_count": null,
      "outputs": [
        {
          "output_type": "stream",
          "name": "stdout",
          "text": [
            "[12 13 14 15 16 17 18 19 20 21 22 23 24 25 26 27]\n",
            "[27 26 25 24 23 22 21 20 19 18 17 16 15 14 13 12]\n"
          ]
        }
      ]
    },
    {
      "cell_type": "code",
      "source": [
        "# 7) Write a program to access all the elements greater than 30 and less than 80 and multiples of 5 from an array of shape 10,10 .Elements range from 1 to 100"
      ],
      "metadata": {
        "id": "EDEvqhCHfqrQ"
      },
      "execution_count": null,
      "outputs": []
    },
    {
      "cell_type": "code",
      "source": [
        "arr7 = np.arange(1,101).reshape(10,10)\n",
        "arr8=arr7[3:8]\n",
        "arr8[arr8%5==0]\n",
        "\n"
      ],
      "metadata": {
        "colab": {
          "base_uri": "https://localhost:8080/"
        },
        "id": "-YHtxSdxgEhc",
        "outputId": "c7990a43-430e-4698-c5e1-4327c3c1d0ea"
      },
      "execution_count": null,
      "outputs": [
        {
          "output_type": "execute_result",
          "data": {
            "text/plain": [
              "array([35, 40, 45, 50, 55, 60, 65, 70, 75, 80])"
            ]
          },
          "metadata": {},
          "execution_count": 47
        }
      ]
    },
    {
      "cell_type": "code",
      "source": [
        "# 8) Write a program to create a 2D array with 1 on the border and 0 inside."
      ],
      "metadata": {
        "id": "8Oj1TXM5gjbY"
      },
      "execution_count": null,
      "outputs": []
    },
    {
      "cell_type": "code",
      "source": [
        "arr9 = np.array([[1,1,1,1],[1,0,0,1],[1,0,0,1],[1,1,1,1]])\n",
        "arr9"
      ],
      "metadata": {
        "colab": {
          "base_uri": "https://localhost:8080/"
        },
        "id": "lMFWH3E7jcXP",
        "outputId": "6b477911-1715-4ceb-fec0-3fa7d0776881"
      },
      "execution_count": null,
      "outputs": [
        {
          "output_type": "execute_result",
          "data": {
            "text/plain": [
              "array([[1, 1, 1, 1],\n",
              "       [1, 0, 0, 1],\n",
              "       [1, 0, 0, 1],\n",
              "       [1, 1, 1, 1]])"
            ]
          },
          "metadata": {},
          "execution_count": 51
        }
      ]
    },
    {
      "cell_type": "code",
      "source": [
        "# 9) Write a program to create a checkerboard pattern .Don't use default array function Checkerboard pattern:"
      ],
      "metadata": {
        "id": "GvbieKCFjfm_"
      },
      "execution_count": null,
      "outputs": []
    },
    {
      "cell_type": "code",
      "source": [
        "arr10 = np.arange(1,65).reshape(8,8)\n",
        "arr = np.arange(1,65,2)\n",
        "p=np.repeat(arr,2).reshape(8,8)\n",
        "arr10-p\n"
      ],
      "metadata": {
        "colab": {
          "base_uri": "https://localhost:8080/"
        },
        "id": "X9KZAEepkHnh",
        "outputId": "28d66aae-598a-4ff9-ec27-82ce0f8d59f9"
      },
      "execution_count": null,
      "outputs": [
        {
          "output_type": "execute_result",
          "data": {
            "text/plain": [
              "array([[0, 1, 0, 1, 0, 1, 0, 1],\n",
              "       [0, 1, 0, 1, 0, 1, 0, 1],\n",
              "       [0, 1, 0, 1, 0, 1, 0, 1],\n",
              "       [0, 1, 0, 1, 0, 1, 0, 1],\n",
              "       [0, 1, 0, 1, 0, 1, 0, 1],\n",
              "       [0, 1, 0, 1, 0, 1, 0, 1],\n",
              "       [0, 1, 0, 1, 0, 1, 0, 1],\n",
              "       [0, 1, 0, 1, 0, 1, 0, 1]])"
            ]
          },
          "metadata": {},
          "execution_count": 110
        }
      ]
    },
    {
      "cell_type": "code",
      "source": [
        "# 10) Write a program to find common values between two arrays."
      ],
      "metadata": {
        "id": "4BbO3a3_kWLY"
      },
      "execution_count": null,
      "outputs": []
    },
    {
      "cell_type": "code",
      "source": [
        "arr11 = np.array([10,20,40,60])\n",
        "arr12 = np.array([10,30,40,50])\n",
        "set(arr12).intersection(set(arr11))"
      ],
      "metadata": {
        "colab": {
          "base_uri": "https://localhost:8080/"
        },
        "id": "pyeeqrPEmQV-",
        "outputId": "5da866e6-4116-4b59-8eb6-08a9f84e3de8"
      },
      "execution_count": null,
      "outputs": [
        {
          "output_type": "execute_result",
          "data": {
            "text/plain": [
              "{10, 40}"
            ]
          },
          "metadata": {},
          "execution_count": 73
        }
      ]
    },
    {
      "cell_type": "code",
      "source": [
        "# 11) Write a program to create an array 2d array and then reshape into 1d array\n"
      ],
      "metadata": {
        "id": "q9loq2sJpcKl"
      },
      "execution_count": null,
      "outputs": []
    },
    {
      "cell_type": "code",
      "source": [
        "print(arr9)\n",
        "arr9.flatten()"
      ],
      "metadata": {
        "colab": {
          "base_uri": "https://localhost:8080/"
        },
        "id": "YIjTn3NBpvFC",
        "outputId": "2c41332e-478e-4e50-b5c3-c32dd448c8dd"
      },
      "execution_count": null,
      "outputs": [
        {
          "output_type": "stream",
          "name": "stdout",
          "text": [
            "[[1 1 1 1]\n",
            " [1 0 0 1]\n",
            " [1 0 0 1]\n",
            " [1 1 1 1]]\n"
          ]
        },
        {
          "output_type": "execute_result",
          "data": {
            "text/plain": [
              "array([1, 1, 1, 1, 1, 0, 0, 1, 1, 0, 0, 1, 1, 1, 1, 1])"
            ]
          },
          "metadata": {},
          "execution_count": 76
        }
      ]
    },
    {
      "cell_type": "code",
      "source": [
        "# 12) Write a user defined function for creating a 1 or 2d array from scratch without using array functions"
      ],
      "metadata": {
        "id": "Ddj_FlMspwPu"
      },
      "execution_count": null,
      "outputs": []
    },
    {
      "cell_type": "code",
      "source": [
        "def createArray(dim):\n",
        "  if dim == 1:\n",
        "    def oneDim():\n",
        "      lst = []\n",
        "      for i in range(0,5):\n",
        "        lst.append(int(input(\"Enter number \")))\n",
        "      print(lst)\n",
        "    oneDim()\n",
        "  if dim == 2:\n",
        "    def twoDim():\n",
        "      for i in range(0,5):\n",
        "        for j in range(0,5):\n",
        "          if j<i:\n",
        "            print([j,i,j])\n",
        "    twoDim()\n"
      ],
      "metadata": {
        "id": "aSz1tfO-qYll"
      },
      "execution_count": 5,
      "outputs": []
    },
    {
      "cell_type": "code",
      "source": [
        "createArray(1)"
      ],
      "metadata": {
        "colab": {
          "base_uri": "https://localhost:8080/"
        },
        "id": "NTOv0awIrjGo",
        "outputId": "1031726e-1202-4d24-d8a5-790a00303f2f"
      },
      "execution_count": 6,
      "outputs": [
        {
          "output_type": "stream",
          "name": "stdout",
          "text": [
            "Enter number 5\n",
            "Enter number 3\n",
            "Enter number 8\n",
            "Enter number 2\n",
            "Enter number 1\n",
            "[5, 3, 8, 2, 1]\n"
          ]
        }
      ]
    },
    {
      "cell_type": "code",
      "source": [
        "createArray(2)"
      ],
      "metadata": {
        "id": "vSLaONZGt4aw",
        "colab": {
          "base_uri": "https://localhost:8080/"
        },
        "outputId": "99b7b964-9a30-43b4-cc3a-bd0620f448dc"
      },
      "execution_count": 7,
      "outputs": [
        {
          "output_type": "stream",
          "name": "stdout",
          "text": [
            "[0, 1, 0]\n",
            "[0, 2, 0]\n",
            "[1, 2, 1]\n",
            "[0, 3, 0]\n",
            "[1, 3, 1]\n",
            "[2, 3, 2]\n",
            "[0, 4, 0]\n",
            "[1, 4, 1]\n",
            "[2, 4, 2]\n",
            "[3, 4, 3]\n"
          ]
        }
      ]
    },
    {
      "cell_type": "code",
      "source": [],
      "metadata": {
        "id": "u9mwc8I1S8fe"
      },
      "execution_count": null,
      "outputs": []
    }
  ]
}